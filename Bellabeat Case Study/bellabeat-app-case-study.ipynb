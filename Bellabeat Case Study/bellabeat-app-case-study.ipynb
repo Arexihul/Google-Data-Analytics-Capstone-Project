{
 "cells": [
  {
   "cell_type": "markdown",
   "id": "e8def29c",
   "metadata": {
    "_execution_state": "idle",
    "_uuid": "051d70d956493feee0c6d64651c6a088724dca2a",
    "papermill": {
     "duration": 0.012697,
     "end_time": "2023-03-11T14:28:58.985566",
     "exception": false,
     "start_time": "2023-03-11T14:28:58.972869",
     "status": "completed"
    },
    "tags": []
   },
   "source": [
    "# Case Study: How Can a Wellness Technology Company Play It Smart?"
   ]
  },
  {
   "cell_type": "markdown",
   "id": "17b29589",
   "metadata": {
    "papermill": {
     "duration": 0.010612,
     "end_time": "2023-03-11T14:28:59.007154",
     "exception": false,
     "start_time": "2023-03-11T14:28:58.996542",
     "status": "completed"
    },
    "tags": []
   },
   "source": [
    "# About\n",
    "Bellabeat is a high-tech women-centric company that manufactures health-focused smart products. They offer different smart devices that collect data on activity, sleep, stress, and reproductive health to empower women with knowledge about their own health and habits.\n",
    "\n",
    "The main focus of this case is to analyze smart devices fitness data and determine how it could help unlock new growth opportunities for Bellabeat. We will focus on one of Bellabeat’s products: Bellabeat app.\n",
    "\n",
    "The Bellabeat app provides users with health data related to their activity, sleep, stress, menstrual cycle, and mindfulness habits. This data can help users better understand their current habits and make healthy decisions. The Bellabeat app connects to their line of smart wellness products"
   ]
  },
  {
   "cell_type": "markdown",
   "id": "8dabfa87",
   "metadata": {
    "papermill": {
     "duration": 0.010222,
     "end_time": "2023-03-11T14:28:59.027905",
     "exception": false,
     "start_time": "2023-03-11T14:28:59.017683",
     "status": "completed"
    },
    "tags": []
   },
   "source": [
    "# Ask\n",
    "Here are the key questions will guide the analysis:\n",
    "1. What are some trends in smart device usage?\n",
    "2. How could these trends apply to Bellabeat customers?\n",
    "3. How could these trends help influence Bellabeat marketing strategy?"
   ]
  },
  {
   "cell_type": "markdown",
   "id": "17af5133",
   "metadata": {
    "papermill": {
     "duration": 0.010139,
     "end_time": "2023-03-11T14:28:59.048262",
     "exception": false,
     "start_time": "2023-03-11T14:28:59.038123",
     "status": "completed"
    },
    "tags": []
   },
   "source": [
    "# Prepare\n",
    "\n",
    "\n",
    "The data source used for this case study is [FitBit Fitness Tracker Data](https://www.kaggle.com/arashnic/fitbit). This dataset was downloaded from Kaggle where it was uploaded by Möbius.\n",
    "\n",
    "We can ensure that this dataset is open-source and have the CC0: Public Domain License which means we can copy, modify, distribute and perform the work, even for commercial purposes, all without asking permission.\n",
    "\n",
    "This Kaggle data set contains personal fitness tracker from 33 users. 33 eligible users consented to the submission of personal tracker data, including minute-level output for physical activity, heart rate, and sleep monitoring. It includes information about daily activity, steps, and heart rate that can be used to explore users’ habits.\n",
    "\n",
    "The dataset is a collection of 18 .csv files. 15 in long format, 3 in wide format.\n",
    "\n",
    "Lastly, the sample size itself could create a sample bias. While a sample size of 30 will hold up within the Central Limit Theorem, a larger sample size will be more representative of the population and would increase the confidence interval. Additionally, since there were no demographic information collected it will be hard to see if we have a true representation of a national or global population. This lack of demographic information will also limit recommendations on the target audience (including gender, location, age and job status) and where to market to them. Considering that Bellabeat is primarily targeted to women and individuals who menstruate, having demographics would have bolstered any recommendations after analysis\n"
   ]
  },
  {
   "cell_type": "markdown",
   "id": "cb801186",
   "metadata": {
    "papermill": {
     "duration": 0.010574,
     "end_time": "2023-03-11T14:28:59.069672",
     "exception": false,
     "start_time": "2023-03-11T14:28:59.059098",
     "status": "completed"
    },
    "tags": []
   },
   "source": [
    "# Process\n",
    "\n",
    "Let's use R programming language as it is effective in all steps of data analysis and use Tableau to create some eye-catching visuals.\n",
    "\n",
    "### Loading the necessary packages"
   ]
  },
  {
   "cell_type": "code",
   "execution_count": 1,
   "id": "dee00f91",
   "metadata": {
    "execution": {
     "iopub.execute_input": "2023-03-11T14:28:59.098354Z",
     "iopub.status.busy": "2023-03-11T14:28:59.094215Z",
     "iopub.status.idle": "2023-03-11T14:29:01.101873Z",
     "shell.execute_reply": "2023-03-11T14:29:01.099886Z"
    },
    "papermill": {
     "duration": 2.025367,
     "end_time": "2023-03-11T14:29:01.105495",
     "exception": false,
     "start_time": "2023-03-11T14:28:59.080128",
     "status": "completed"
    },
    "tags": []
   },
   "outputs": [
    {
     "name": "stderr",
     "output_type": "stream",
     "text": [
      "── \u001b[1mAttaching packages\u001b[22m ─────────────────────────────────────── tidyverse 1.3.2 ──\n",
      "\u001b[32m✔\u001b[39m \u001b[34mggplot2\u001b[39m 3.4.0      \u001b[32m✔\u001b[39m \u001b[34mpurrr  \u001b[39m 1.0.1 \n",
      "\u001b[32m✔\u001b[39m \u001b[34mtibble \u001b[39m 3.1.8      \u001b[32m✔\u001b[39m \u001b[34mdplyr  \u001b[39m 1.0.10\n",
      "\u001b[32m✔\u001b[39m \u001b[34mtidyr  \u001b[39m 1.2.1      \u001b[32m✔\u001b[39m \u001b[34mstringr\u001b[39m 1.5.0 \n",
      "\u001b[32m✔\u001b[39m \u001b[34mreadr  \u001b[39m 2.1.3      \u001b[32m✔\u001b[39m \u001b[34mforcats\u001b[39m 0.5.2 \n",
      "── \u001b[1mConflicts\u001b[22m ────────────────────────────────────────── tidyverse_conflicts() ──\n",
      "\u001b[31m✖\u001b[39m \u001b[34mdplyr\u001b[39m::\u001b[32mfilter()\u001b[39m masks \u001b[34mstats\u001b[39m::filter()\n",
      "\u001b[31m✖\u001b[39m \u001b[34mdplyr\u001b[39m::\u001b[32mlag()\u001b[39m    masks \u001b[34mstats\u001b[39m::lag()\n",
      "Loading required package: timechange\n",
      "\n",
      "\n",
      "Attaching package: ‘lubridate’\n",
      "\n",
      "\n",
      "The following objects are masked from ‘package:base’:\n",
      "\n",
      "    date, intersect, setdiff, union\n",
      "\n",
      "\n",
      "\n",
      "Attaching package: ‘janitor’\n",
      "\n",
      "\n",
      "The following objects are masked from ‘package:stats’:\n",
      "\n",
      "    chisq.test, fisher.test\n",
      "\n",
      "\n",
      "here() starts at /kaggle/working\n",
      "\n"
     ]
    }
   ],
   "source": [
    "library(tidyverse)\n",
    "library(ggplot2)\n",
    "library(lubridate)\n",
    "library(janitor)\n",
    "library(dplyr)\n",
    "library(skimr)\n",
    "library(tidyr)\n",
    "library(here)"
   ]
  },
  {
   "cell_type": "markdown",
   "id": "037166f0",
   "metadata": {
    "papermill": {
     "duration": 0.012301,
     "end_time": "2023-03-11T14:29:01.129777",
     "exception": false,
     "start_time": "2023-03-11T14:29:01.117476",
     "status": "completed"
    },
    "tags": []
   },
   "source": [
    "### Importing the data"
   ]
  },
  {
   "cell_type": "code",
   "execution_count": 2,
   "id": "56a43743",
   "metadata": {
    "execution": {
     "iopub.execute_input": "2023-03-11T14:29:01.196629Z",
     "iopub.status.busy": "2023-03-11T14:29:01.153778Z",
     "iopub.status.idle": "2023-03-11T14:29:02.007001Z",
     "shell.execute_reply": "2023-03-11T14:29:02.004259Z"
    },
    "papermill": {
     "duration": 0.869772,
     "end_time": "2023-03-11T14:29:02.010519",
     "exception": false,
     "start_time": "2023-03-11T14:29:01.140747",
     "status": "completed"
    },
    "tags": []
   },
   "outputs": [
    {
     "name": "stderr",
     "output_type": "stream",
     "text": [
      "\u001b[1mRows: \u001b[22m\u001b[34m940\u001b[39m \u001b[1mColumns: \u001b[22m\u001b[34m15\u001b[39m\n",
      "\u001b[36m──\u001b[39m \u001b[1mColumn specification\u001b[22m \u001b[36m────────────────────────────────────────────────────────\u001b[39m\n",
      "\u001b[1mDelimiter:\u001b[22m \",\"\n",
      "\u001b[31mchr\u001b[39m  (1): ActivityDate\n",
      "\u001b[32mdbl\u001b[39m (14): Id, TotalSteps, TotalDistance, TrackerDistance, LoggedActivitiesDi...\n",
      "\n",
      "\u001b[36mℹ\u001b[39m Use `spec()` to retrieve the full column specification for this data.\n",
      "\u001b[36mℹ\u001b[39m Specify the column types or set `show_col_types = FALSE` to quiet this message.\n",
      "\u001b[1mRows: \u001b[22m\u001b[34m413\u001b[39m \u001b[1mColumns: \u001b[22m\u001b[34m5\u001b[39m\n",
      "\u001b[36m──\u001b[39m \u001b[1mColumn specification\u001b[22m \u001b[36m────────────────────────────────────────────────────────\u001b[39m\n",
      "\u001b[1mDelimiter:\u001b[22m \",\"\n",
      "\u001b[31mchr\u001b[39m (1): SleepDay\n",
      "\u001b[32mdbl\u001b[39m (4): Id, TotalSleepRecords, TotalMinutesAsleep, TotalTimeInBed\n",
      "\n",
      "\u001b[36mℹ\u001b[39m Use `spec()` to retrieve the full column specification for this data.\n",
      "\u001b[36mℹ\u001b[39m Specify the column types or set `show_col_types = FALSE` to quiet this message.\n",
      "\u001b[1mRows: \u001b[22m\u001b[34m22099\u001b[39m \u001b[1mColumns: \u001b[22m\u001b[34m3\u001b[39m\n",
      "\u001b[36m──\u001b[39m \u001b[1mColumn specification\u001b[22m \u001b[36m────────────────────────────────────────────────────────\u001b[39m\n",
      "\u001b[1mDelimiter:\u001b[22m \",\"\n",
      "\u001b[31mchr\u001b[39m (1): ActivityHour\n",
      "\u001b[32mdbl\u001b[39m (2): Id, Calories\n",
      "\n",
      "\u001b[36mℹ\u001b[39m Use `spec()` to retrieve the full column specification for this data.\n",
      "\u001b[36mℹ\u001b[39m Specify the column types or set `show_col_types = FALSE` to quiet this message.\n",
      "\u001b[1mRows: \u001b[22m\u001b[34m22099\u001b[39m \u001b[1mColumns: \u001b[22m\u001b[34m4\u001b[39m\n",
      "\u001b[36m──\u001b[39m \u001b[1mColumn specification\u001b[22m \u001b[36m────────────────────────────────────────────────────────\u001b[39m\n",
      "\u001b[1mDelimiter:\u001b[22m \",\"\n",
      "\u001b[31mchr\u001b[39m (1): ActivityHour\n",
      "\u001b[32mdbl\u001b[39m (3): Id, TotalIntensity, AverageIntensity\n",
      "\n",
      "\u001b[36mℹ\u001b[39m Use `spec()` to retrieve the full column specification for this data.\n",
      "\u001b[36mℹ\u001b[39m Specify the column types or set `show_col_types = FALSE` to quiet this message.\n",
      "\u001b[1mRows: \u001b[22m\u001b[34m22099\u001b[39m \u001b[1mColumns: \u001b[22m\u001b[34m3\u001b[39m\n",
      "\u001b[36m──\u001b[39m \u001b[1mColumn specification\u001b[22m \u001b[36m────────────────────────────────────────────────────────\u001b[39m\n",
      "\u001b[1mDelimiter:\u001b[22m \",\"\n",
      "\u001b[31mchr\u001b[39m (1): ActivityHour\n",
      "\u001b[32mdbl\u001b[39m (2): Id, StepTotal\n",
      "\n",
      "\u001b[36mℹ\u001b[39m Use `spec()` to retrieve the full column specification for this data.\n",
      "\u001b[36mℹ\u001b[39m Specify the column types or set `show_col_types = FALSE` to quiet this message.\n",
      "\u001b[1mRows: \u001b[22m\u001b[34m67\u001b[39m \u001b[1mColumns: \u001b[22m\u001b[34m8\u001b[39m\n",
      "\u001b[36m──\u001b[39m \u001b[1mColumn specification\u001b[22m \u001b[36m────────────────────────────────────────────────────────\u001b[39m\n",
      "\u001b[1mDelimiter:\u001b[22m \",\"\n",
      "\u001b[31mchr\u001b[39m (1): Date\n",
      "\u001b[32mdbl\u001b[39m (6): Id, WeightKg, WeightPounds, Fat, BMI, LogId\n",
      "\u001b[33mlgl\u001b[39m (1): IsManualReport\n",
      "\n",
      "\u001b[36mℹ\u001b[39m Use `spec()` to retrieve the full column specification for this data.\n",
      "\u001b[36mℹ\u001b[39m Specify the column types or set `show_col_types = FALSE` to quiet this message.\n"
     ]
    }
   ],
   "source": [
    "daily_activity <- read_csv(\"/kaggle/input/fitbit/Fitabase Data 4.12.16-5.12.16/dailyActivity_merged.csv\")\n",
    "# No need to import the dailyCalories, dailyIntensities, dailySteps since dailyActivity is already includes them\n",
    "daily_sleep <- read_csv(\"/kaggle/input/fitbit/Fitabase Data 4.12.16-5.12.16/sleepDay_merged.csv\")\n",
    "hourly_calories <- read_csv(\"/kaggle/input/fitbit/Fitabase Data 4.12.16-5.12.16/hourlyCalories_merged.csv\")\n",
    "hourly_intensities <- read_csv(\"/kaggle/input/fitbit/Fitabase Data 4.12.16-5.12.16/hourlyIntensities_merged.csv\")\n",
    "hourly_steps <- read_csv(\"/kaggle/input/fitbit/Fitabase Data 4.12.16-5.12.16/hourlySteps_merged.csv\")\n",
    "# There is no data data like hourlyActivity, so we should use hourlyCalories, hourlyIntensities, hourlySteps\n",
    "\n",
    "# Also, there is data of calories, intensities and steps for each minute but it would be too specific for my analysis, so I don't use it.\n",
    "weight_log_info <- read_csv(\"/kaggle/input/fitbit/Fitabase Data 4.12.16-5.12.16/weightLogInfo_merged.csv\")\n",
    "# Weight data of users may also be useful\n"
   ]
  },
  {
   "cell_type": "markdown",
   "id": "9788fc2b",
   "metadata": {
    "papermill": {
     "duration": 0.011925,
     "end_time": "2023-03-11T14:29:02.034616",
     "exception": false,
     "start_time": "2023-03-11T14:29:02.022691",
     "status": "completed"
    },
    "tags": []
   },
   "source": [
    "All the necessary data is imported. Now, let's take a look at them."
   ]
  },
  {
   "cell_type": "code",
   "execution_count": 3,
   "id": "d18a5f4e",
   "metadata": {
    "execution": {
     "iopub.execute_input": "2023-03-11T14:29:02.062380Z",
     "iopub.status.busy": "2023-03-11T14:29:02.060894Z",
     "iopub.status.idle": "2023-03-11T14:29:02.278238Z",
     "shell.execute_reply": "2023-03-11T14:29:02.274735Z"
    },
    "papermill": {
     "duration": 0.23716,
     "end_time": "2023-03-11T14:29:02.283721",
     "exception": false,
     "start_time": "2023-03-11T14:29:02.046561",
     "status": "completed"
    },
    "tags": []
   },
   "outputs": [
    {
     "name": "stdout",
     "output_type": "stream",
     "text": [
      "Rows: 940\n",
      "Columns: 15\n",
      "$ Id                       \u001b[3m\u001b[90m<dbl>\u001b[39m\u001b[23m 1503960366, 1503960366, 1503960366, 150396036…\n",
      "$ ActivityDate             \u001b[3m\u001b[90m<chr>\u001b[39m\u001b[23m \"4/12/2016\", \"4/13/2016\", \"4/14/2016\", \"4/15/…\n",
      "$ TotalSteps               \u001b[3m\u001b[90m<dbl>\u001b[39m\u001b[23m 13162, 10735, 10460, 9762, 12669, 9705, 13019…\n",
      "$ TotalDistance            \u001b[3m\u001b[90m<dbl>\u001b[39m\u001b[23m 8.50, 6.97, 6.74, 6.28, 8.16, 6.48, 8.59, 9.8…\n",
      "$ TrackerDistance          \u001b[3m\u001b[90m<dbl>\u001b[39m\u001b[23m 8.50, 6.97, 6.74, 6.28, 8.16, 6.48, 8.59, 9.8…\n",
      "$ LoggedActivitiesDistance \u001b[3m\u001b[90m<dbl>\u001b[39m\u001b[23m 0, 0, 0, 0, 0, 0, 0, 0, 0, 0, 0, 0, 0, 0, 0, …\n",
      "$ VeryActiveDistance       \u001b[3m\u001b[90m<dbl>\u001b[39m\u001b[23m 1.88, 1.57, 2.44, 2.14, 2.71, 3.19, 3.25, 3.5…\n",
      "$ ModeratelyActiveDistance \u001b[3m\u001b[90m<dbl>\u001b[39m\u001b[23m 0.55, 0.69, 0.40, 1.26, 0.41, 0.78, 0.64, 1.3…\n",
      "$ LightActiveDistance      \u001b[3m\u001b[90m<dbl>\u001b[39m\u001b[23m 6.06, 4.71, 3.91, 2.83, 5.04, 2.51, 4.71, 5.0…\n",
      "$ SedentaryActiveDistance  \u001b[3m\u001b[90m<dbl>\u001b[39m\u001b[23m 0, 0, 0, 0, 0, 0, 0, 0, 0, 0, 0, 0, 0, 0, 0, …\n",
      "$ VeryActiveMinutes        \u001b[3m\u001b[90m<dbl>\u001b[39m\u001b[23m 25, 21, 30, 29, 36, 38, 42, 50, 28, 19, 66, 4…\n",
      "$ FairlyActiveMinutes      \u001b[3m\u001b[90m<dbl>\u001b[39m\u001b[23m 13, 19, 11, 34, 10, 20, 16, 31, 12, 8, 27, 21…\n",
      "$ LightlyActiveMinutes     \u001b[3m\u001b[90m<dbl>\u001b[39m\u001b[23m 328, 217, 181, 209, 221, 164, 233, 264, 205, …\n",
      "$ SedentaryMinutes         \u001b[3m\u001b[90m<dbl>\u001b[39m\u001b[23m 728, 776, 1218, 726, 773, 539, 1149, 775, 818…\n",
      "$ Calories                 \u001b[3m\u001b[90m<dbl>\u001b[39m\u001b[23m 1985, 1797, 1776, 1745, 1863, 1728, 1921, 203…\n"
     ]
    },
    {
     "data": {
      "text/html": [
       "<table class=\"dataframe\">\n",
       "<caption>A tibble: 6 × 15</caption>\n",
       "<thead>\n",
       "\t<tr><th scope=col>Id</th><th scope=col>ActivityDate</th><th scope=col>TotalSteps</th><th scope=col>TotalDistance</th><th scope=col>TrackerDistance</th><th scope=col>LoggedActivitiesDistance</th><th scope=col>VeryActiveDistance</th><th scope=col>ModeratelyActiveDistance</th><th scope=col>LightActiveDistance</th><th scope=col>SedentaryActiveDistance</th><th scope=col>VeryActiveMinutes</th><th scope=col>FairlyActiveMinutes</th><th scope=col>LightlyActiveMinutes</th><th scope=col>SedentaryMinutes</th><th scope=col>Calories</th></tr>\n",
       "\t<tr><th scope=col>&lt;dbl&gt;</th><th scope=col>&lt;chr&gt;</th><th scope=col>&lt;dbl&gt;</th><th scope=col>&lt;dbl&gt;</th><th scope=col>&lt;dbl&gt;</th><th scope=col>&lt;dbl&gt;</th><th scope=col>&lt;dbl&gt;</th><th scope=col>&lt;dbl&gt;</th><th scope=col>&lt;dbl&gt;</th><th scope=col>&lt;dbl&gt;</th><th scope=col>&lt;dbl&gt;</th><th scope=col>&lt;dbl&gt;</th><th scope=col>&lt;dbl&gt;</th><th scope=col>&lt;dbl&gt;</th><th scope=col>&lt;dbl&gt;</th></tr>\n",
       "</thead>\n",
       "<tbody>\n",
       "\t<tr><td>1503960366</td><td>4/12/2016</td><td>13162</td><td>8.50</td><td>8.50</td><td>0</td><td>1.88</td><td>0.55</td><td>6.06</td><td>0</td><td>25</td><td>13</td><td>328</td><td> 728</td><td>1985</td></tr>\n",
       "\t<tr><td>1503960366</td><td>4/13/2016</td><td>10735</td><td>6.97</td><td>6.97</td><td>0</td><td>1.57</td><td>0.69</td><td>4.71</td><td>0</td><td>21</td><td>19</td><td>217</td><td> 776</td><td>1797</td></tr>\n",
       "\t<tr><td>1503960366</td><td>4/14/2016</td><td>10460</td><td>6.74</td><td>6.74</td><td>0</td><td>2.44</td><td>0.40</td><td>3.91</td><td>0</td><td>30</td><td>11</td><td>181</td><td>1218</td><td>1776</td></tr>\n",
       "\t<tr><td>1503960366</td><td>4/15/2016</td><td> 9762</td><td>6.28</td><td>6.28</td><td>0</td><td>2.14</td><td>1.26</td><td>2.83</td><td>0</td><td>29</td><td>34</td><td>209</td><td> 726</td><td>1745</td></tr>\n",
       "\t<tr><td>1503960366</td><td>4/16/2016</td><td>12669</td><td>8.16</td><td>8.16</td><td>0</td><td>2.71</td><td>0.41</td><td>5.04</td><td>0</td><td>36</td><td>10</td><td>221</td><td> 773</td><td>1863</td></tr>\n",
       "\t<tr><td>1503960366</td><td>4/17/2016</td><td> 9705</td><td>6.48</td><td>6.48</td><td>0</td><td>3.19</td><td>0.78</td><td>2.51</td><td>0</td><td>38</td><td>20</td><td>164</td><td> 539</td><td>1728</td></tr>\n",
       "</tbody>\n",
       "</table>\n"
      ],
      "text/latex": [
       "A tibble: 6 × 15\n",
       "\\begin{tabular}{lllllllllllllll}\n",
       " Id & ActivityDate & TotalSteps & TotalDistance & TrackerDistance & LoggedActivitiesDistance & VeryActiveDistance & ModeratelyActiveDistance & LightActiveDistance & SedentaryActiveDistance & VeryActiveMinutes & FairlyActiveMinutes & LightlyActiveMinutes & SedentaryMinutes & Calories\\\\\n",
       " <dbl> & <chr> & <dbl> & <dbl> & <dbl> & <dbl> & <dbl> & <dbl> & <dbl> & <dbl> & <dbl> & <dbl> & <dbl> & <dbl> & <dbl>\\\\\n",
       "\\hline\n",
       "\t 1503960366 & 4/12/2016 & 13162 & 8.50 & 8.50 & 0 & 1.88 & 0.55 & 6.06 & 0 & 25 & 13 & 328 &  728 & 1985\\\\\n",
       "\t 1503960366 & 4/13/2016 & 10735 & 6.97 & 6.97 & 0 & 1.57 & 0.69 & 4.71 & 0 & 21 & 19 & 217 &  776 & 1797\\\\\n",
       "\t 1503960366 & 4/14/2016 & 10460 & 6.74 & 6.74 & 0 & 2.44 & 0.40 & 3.91 & 0 & 30 & 11 & 181 & 1218 & 1776\\\\\n",
       "\t 1503960366 & 4/15/2016 &  9762 & 6.28 & 6.28 & 0 & 2.14 & 1.26 & 2.83 & 0 & 29 & 34 & 209 &  726 & 1745\\\\\n",
       "\t 1503960366 & 4/16/2016 & 12669 & 8.16 & 8.16 & 0 & 2.71 & 0.41 & 5.04 & 0 & 36 & 10 & 221 &  773 & 1863\\\\\n",
       "\t 1503960366 & 4/17/2016 &  9705 & 6.48 & 6.48 & 0 & 3.19 & 0.78 & 2.51 & 0 & 38 & 20 & 164 &  539 & 1728\\\\\n",
       "\\end{tabular}\n"
      ],
      "text/markdown": [
       "\n",
       "A tibble: 6 × 15\n",
       "\n",
       "| Id &lt;dbl&gt; | ActivityDate &lt;chr&gt; | TotalSteps &lt;dbl&gt; | TotalDistance &lt;dbl&gt; | TrackerDistance &lt;dbl&gt; | LoggedActivitiesDistance &lt;dbl&gt; | VeryActiveDistance &lt;dbl&gt; | ModeratelyActiveDistance &lt;dbl&gt; | LightActiveDistance &lt;dbl&gt; | SedentaryActiveDistance &lt;dbl&gt; | VeryActiveMinutes &lt;dbl&gt; | FairlyActiveMinutes &lt;dbl&gt; | LightlyActiveMinutes &lt;dbl&gt; | SedentaryMinutes &lt;dbl&gt; | Calories &lt;dbl&gt; |\n",
       "|---|---|---|---|---|---|---|---|---|---|---|---|---|---|---|\n",
       "| 1503960366 | 4/12/2016 | 13162 | 8.50 | 8.50 | 0 | 1.88 | 0.55 | 6.06 | 0 | 25 | 13 | 328 |  728 | 1985 |\n",
       "| 1503960366 | 4/13/2016 | 10735 | 6.97 | 6.97 | 0 | 1.57 | 0.69 | 4.71 | 0 | 21 | 19 | 217 |  776 | 1797 |\n",
       "| 1503960366 | 4/14/2016 | 10460 | 6.74 | 6.74 | 0 | 2.44 | 0.40 | 3.91 | 0 | 30 | 11 | 181 | 1218 | 1776 |\n",
       "| 1503960366 | 4/15/2016 |  9762 | 6.28 | 6.28 | 0 | 2.14 | 1.26 | 2.83 | 0 | 29 | 34 | 209 |  726 | 1745 |\n",
       "| 1503960366 | 4/16/2016 | 12669 | 8.16 | 8.16 | 0 | 2.71 | 0.41 | 5.04 | 0 | 36 | 10 | 221 |  773 | 1863 |\n",
       "| 1503960366 | 4/17/2016 |  9705 | 6.48 | 6.48 | 0 | 3.19 | 0.78 | 2.51 | 0 | 38 | 20 | 164 |  539 | 1728 |\n",
       "\n"
      ],
      "text/plain": [
       "  Id         ActivityDate TotalSteps TotalDistance TrackerDistance\n",
       "1 1503960366 4/12/2016    13162      8.50          8.50           \n",
       "2 1503960366 4/13/2016    10735      6.97          6.97           \n",
       "3 1503960366 4/14/2016    10460      6.74          6.74           \n",
       "4 1503960366 4/15/2016     9762      6.28          6.28           \n",
       "5 1503960366 4/16/2016    12669      8.16          8.16           \n",
       "6 1503960366 4/17/2016     9705      6.48          6.48           \n",
       "  LoggedActivitiesDistance VeryActiveDistance ModeratelyActiveDistance\n",
       "1 0                        1.88               0.55                    \n",
       "2 0                        1.57               0.69                    \n",
       "3 0                        2.44               0.40                    \n",
       "4 0                        2.14               1.26                    \n",
       "5 0                        2.71               0.41                    \n",
       "6 0                        3.19               0.78                    \n",
       "  LightActiveDistance SedentaryActiveDistance VeryActiveMinutes\n",
       "1 6.06                0                       25               \n",
       "2 4.71                0                       21               \n",
       "3 3.91                0                       30               \n",
       "4 2.83                0                       29               \n",
       "5 5.04                0                       36               \n",
       "6 2.51                0                       38               \n",
       "  FairlyActiveMinutes LightlyActiveMinutes SedentaryMinutes Calories\n",
       "1 13                  328                   728             1985    \n",
       "2 19                  217                   776             1797    \n",
       "3 11                  181                  1218             1776    \n",
       "4 34                  209                   726             1745    \n",
       "5 10                  221                   773             1863    \n",
       "6 20                  164                   539             1728    "
      ]
     },
     "metadata": {},
     "output_type": "display_data"
    },
    {
     "name": "stdout",
     "output_type": "stream",
     "text": [
      "Rows: 413\n",
      "Columns: 5\n",
      "$ Id                 \u001b[3m\u001b[90m<dbl>\u001b[39m\u001b[23m 1503960366, 1503960366, 1503960366, 1503960366, 150…\n",
      "$ SleepDay           \u001b[3m\u001b[90m<chr>\u001b[39m\u001b[23m \"4/12/2016 12:00:00 AM\", \"4/13/2016 12:00:00 AM\", \"…\n",
      "$ TotalSleepRecords  \u001b[3m\u001b[90m<dbl>\u001b[39m\u001b[23m 1, 2, 1, 2, 1, 1, 1, 1, 1, 1, 1, 1, 1, 1, 1, 1, 1, …\n",
      "$ TotalMinutesAsleep \u001b[3m\u001b[90m<dbl>\u001b[39m\u001b[23m 327, 384, 412, 340, 700, 304, 360, 325, 361, 430, 2…\n",
      "$ TotalTimeInBed     \u001b[3m\u001b[90m<dbl>\u001b[39m\u001b[23m 346, 407, 442, 367, 712, 320, 377, 364, 384, 449, 3…\n"
     ]
    },
    {
     "data": {
      "text/html": [
       "<table class=\"dataframe\">\n",
       "<caption>A tibble: 6 × 5</caption>\n",
       "<thead>\n",
       "\t<tr><th scope=col>Id</th><th scope=col>SleepDay</th><th scope=col>TotalSleepRecords</th><th scope=col>TotalMinutesAsleep</th><th scope=col>TotalTimeInBed</th></tr>\n",
       "\t<tr><th scope=col>&lt;dbl&gt;</th><th scope=col>&lt;chr&gt;</th><th scope=col>&lt;dbl&gt;</th><th scope=col>&lt;dbl&gt;</th><th scope=col>&lt;dbl&gt;</th></tr>\n",
       "</thead>\n",
       "<tbody>\n",
       "\t<tr><td>1503960366</td><td>4/12/2016 12:00:00 AM</td><td>1</td><td>327</td><td>346</td></tr>\n",
       "\t<tr><td>1503960366</td><td>4/13/2016 12:00:00 AM</td><td>2</td><td>384</td><td>407</td></tr>\n",
       "\t<tr><td>1503960366</td><td>4/15/2016 12:00:00 AM</td><td>1</td><td>412</td><td>442</td></tr>\n",
       "\t<tr><td>1503960366</td><td>4/16/2016 12:00:00 AM</td><td>2</td><td>340</td><td>367</td></tr>\n",
       "\t<tr><td>1503960366</td><td>4/17/2016 12:00:00 AM</td><td>1</td><td>700</td><td>712</td></tr>\n",
       "\t<tr><td>1503960366</td><td>4/19/2016 12:00:00 AM</td><td>1</td><td>304</td><td>320</td></tr>\n",
       "</tbody>\n",
       "</table>\n"
      ],
      "text/latex": [
       "A tibble: 6 × 5\n",
       "\\begin{tabular}{lllll}\n",
       " Id & SleepDay & TotalSleepRecords & TotalMinutesAsleep & TotalTimeInBed\\\\\n",
       " <dbl> & <chr> & <dbl> & <dbl> & <dbl>\\\\\n",
       "\\hline\n",
       "\t 1503960366 & 4/12/2016 12:00:00 AM & 1 & 327 & 346\\\\\n",
       "\t 1503960366 & 4/13/2016 12:00:00 AM & 2 & 384 & 407\\\\\n",
       "\t 1503960366 & 4/15/2016 12:00:00 AM & 1 & 412 & 442\\\\\n",
       "\t 1503960366 & 4/16/2016 12:00:00 AM & 2 & 340 & 367\\\\\n",
       "\t 1503960366 & 4/17/2016 12:00:00 AM & 1 & 700 & 712\\\\\n",
       "\t 1503960366 & 4/19/2016 12:00:00 AM & 1 & 304 & 320\\\\\n",
       "\\end{tabular}\n"
      ],
      "text/markdown": [
       "\n",
       "A tibble: 6 × 5\n",
       "\n",
       "| Id &lt;dbl&gt; | SleepDay &lt;chr&gt; | TotalSleepRecords &lt;dbl&gt; | TotalMinutesAsleep &lt;dbl&gt; | TotalTimeInBed &lt;dbl&gt; |\n",
       "|---|---|---|---|---|\n",
       "| 1503960366 | 4/12/2016 12:00:00 AM | 1 | 327 | 346 |\n",
       "| 1503960366 | 4/13/2016 12:00:00 AM | 2 | 384 | 407 |\n",
       "| 1503960366 | 4/15/2016 12:00:00 AM | 1 | 412 | 442 |\n",
       "| 1503960366 | 4/16/2016 12:00:00 AM | 2 | 340 | 367 |\n",
       "| 1503960366 | 4/17/2016 12:00:00 AM | 1 | 700 | 712 |\n",
       "| 1503960366 | 4/19/2016 12:00:00 AM | 1 | 304 | 320 |\n",
       "\n"
      ],
      "text/plain": [
       "  Id         SleepDay              TotalSleepRecords TotalMinutesAsleep\n",
       "1 1503960366 4/12/2016 12:00:00 AM 1                 327               \n",
       "2 1503960366 4/13/2016 12:00:00 AM 2                 384               \n",
       "3 1503960366 4/15/2016 12:00:00 AM 1                 412               \n",
       "4 1503960366 4/16/2016 12:00:00 AM 2                 340               \n",
       "5 1503960366 4/17/2016 12:00:00 AM 1                 700               \n",
       "6 1503960366 4/19/2016 12:00:00 AM 1                 304               \n",
       "  TotalTimeInBed\n",
       "1 346           \n",
       "2 407           \n",
       "3 442           \n",
       "4 367           \n",
       "5 712           \n",
       "6 320           "
      ]
     },
     "metadata": {},
     "output_type": "display_data"
    },
    {
     "name": "stdout",
     "output_type": "stream",
     "text": [
      "Rows: 22,099\n",
      "Columns: 3\n",
      "$ Id           \u001b[3m\u001b[90m<dbl>\u001b[39m\u001b[23m 1503960366, 1503960366, 1503960366, 1503960366, 150396036…\n",
      "$ ActivityHour \u001b[3m\u001b[90m<chr>\u001b[39m\u001b[23m \"4/12/2016 12:00:00 AM\", \"4/12/2016 1:00:00 AM\", \"4/12/20…\n",
      "$ Calories     \u001b[3m\u001b[90m<dbl>\u001b[39m\u001b[23m 81, 61, 59, 47, 48, 48, 48, 47, 68, 141, 99, 76, 73, 66, …\n"
     ]
    },
    {
     "data": {
      "text/html": [
       "<table class=\"dataframe\">\n",
       "<caption>A tibble: 6 × 3</caption>\n",
       "<thead>\n",
       "\t<tr><th scope=col>Id</th><th scope=col>ActivityHour</th><th scope=col>Calories</th></tr>\n",
       "\t<tr><th scope=col>&lt;dbl&gt;</th><th scope=col>&lt;chr&gt;</th><th scope=col>&lt;dbl&gt;</th></tr>\n",
       "</thead>\n",
       "<tbody>\n",
       "\t<tr><td>1503960366</td><td>4/12/2016 12:00:00 AM</td><td>81</td></tr>\n",
       "\t<tr><td>1503960366</td><td>4/12/2016 1:00:00 AM </td><td>61</td></tr>\n",
       "\t<tr><td>1503960366</td><td>4/12/2016 2:00:00 AM </td><td>59</td></tr>\n",
       "\t<tr><td>1503960366</td><td>4/12/2016 3:00:00 AM </td><td>47</td></tr>\n",
       "\t<tr><td>1503960366</td><td>4/12/2016 4:00:00 AM </td><td>48</td></tr>\n",
       "\t<tr><td>1503960366</td><td>4/12/2016 5:00:00 AM </td><td>48</td></tr>\n",
       "</tbody>\n",
       "</table>\n"
      ],
      "text/latex": [
       "A tibble: 6 × 3\n",
       "\\begin{tabular}{lll}\n",
       " Id & ActivityHour & Calories\\\\\n",
       " <dbl> & <chr> & <dbl>\\\\\n",
       "\\hline\n",
       "\t 1503960366 & 4/12/2016 12:00:00 AM & 81\\\\\n",
       "\t 1503960366 & 4/12/2016 1:00:00 AM  & 61\\\\\n",
       "\t 1503960366 & 4/12/2016 2:00:00 AM  & 59\\\\\n",
       "\t 1503960366 & 4/12/2016 3:00:00 AM  & 47\\\\\n",
       "\t 1503960366 & 4/12/2016 4:00:00 AM  & 48\\\\\n",
       "\t 1503960366 & 4/12/2016 5:00:00 AM  & 48\\\\\n",
       "\\end{tabular}\n"
      ],
      "text/markdown": [
       "\n",
       "A tibble: 6 × 3\n",
       "\n",
       "| Id &lt;dbl&gt; | ActivityHour &lt;chr&gt; | Calories &lt;dbl&gt; |\n",
       "|---|---|---|\n",
       "| 1503960366 | 4/12/2016 12:00:00 AM | 81 |\n",
       "| 1503960366 | 4/12/2016 1:00:00 AM  | 61 |\n",
       "| 1503960366 | 4/12/2016 2:00:00 AM  | 59 |\n",
       "| 1503960366 | 4/12/2016 3:00:00 AM  | 47 |\n",
       "| 1503960366 | 4/12/2016 4:00:00 AM  | 48 |\n",
       "| 1503960366 | 4/12/2016 5:00:00 AM  | 48 |\n",
       "\n"
      ],
      "text/plain": [
       "  Id         ActivityHour          Calories\n",
       "1 1503960366 4/12/2016 12:00:00 AM 81      \n",
       "2 1503960366 4/12/2016 1:00:00 AM  61      \n",
       "3 1503960366 4/12/2016 2:00:00 AM  59      \n",
       "4 1503960366 4/12/2016 3:00:00 AM  47      \n",
       "5 1503960366 4/12/2016 4:00:00 AM  48      \n",
       "6 1503960366 4/12/2016 5:00:00 AM  48      "
      ]
     },
     "metadata": {},
     "output_type": "display_data"
    },
    {
     "name": "stdout",
     "output_type": "stream",
     "text": [
      "Rows: 22,099\n",
      "Columns: 4\n",
      "$ Id               \u001b[3m\u001b[90m<dbl>\u001b[39m\u001b[23m 1503960366, 1503960366, 1503960366, 1503960366, 15039…\n",
      "$ ActivityHour     \u001b[3m\u001b[90m<chr>\u001b[39m\u001b[23m \"4/12/2016 12:00:00 AM\", \"4/12/2016 1:00:00 AM\", \"4/1…\n",
      "$ TotalIntensity   \u001b[3m\u001b[90m<dbl>\u001b[39m\u001b[23m 20, 8, 7, 0, 0, 0, 0, 0, 13, 30, 29, 12, 11, 6, 36, 5…\n",
      "$ AverageIntensity \u001b[3m\u001b[90m<dbl>\u001b[39m\u001b[23m 0.333333, 0.133333, 0.116667, 0.000000, 0.000000, 0.0…\n"
     ]
    },
    {
     "data": {
      "text/html": [
       "<table class=\"dataframe\">\n",
       "<caption>A tibble: 6 × 4</caption>\n",
       "<thead>\n",
       "\t<tr><th scope=col>Id</th><th scope=col>ActivityHour</th><th scope=col>TotalIntensity</th><th scope=col>AverageIntensity</th></tr>\n",
       "\t<tr><th scope=col>&lt;dbl&gt;</th><th scope=col>&lt;chr&gt;</th><th scope=col>&lt;dbl&gt;</th><th scope=col>&lt;dbl&gt;</th></tr>\n",
       "</thead>\n",
       "<tbody>\n",
       "\t<tr><td>1503960366</td><td>4/12/2016 12:00:00 AM</td><td>20</td><td>0.333333</td></tr>\n",
       "\t<tr><td>1503960366</td><td>4/12/2016 1:00:00 AM </td><td> 8</td><td>0.133333</td></tr>\n",
       "\t<tr><td>1503960366</td><td>4/12/2016 2:00:00 AM </td><td> 7</td><td>0.116667</td></tr>\n",
       "\t<tr><td>1503960366</td><td>4/12/2016 3:00:00 AM </td><td> 0</td><td>0.000000</td></tr>\n",
       "\t<tr><td>1503960366</td><td>4/12/2016 4:00:00 AM </td><td> 0</td><td>0.000000</td></tr>\n",
       "\t<tr><td>1503960366</td><td>4/12/2016 5:00:00 AM </td><td> 0</td><td>0.000000</td></tr>\n",
       "</tbody>\n",
       "</table>\n"
      ],
      "text/latex": [
       "A tibble: 6 × 4\n",
       "\\begin{tabular}{llll}\n",
       " Id & ActivityHour & TotalIntensity & AverageIntensity\\\\\n",
       " <dbl> & <chr> & <dbl> & <dbl>\\\\\n",
       "\\hline\n",
       "\t 1503960366 & 4/12/2016 12:00:00 AM & 20 & 0.333333\\\\\n",
       "\t 1503960366 & 4/12/2016 1:00:00 AM  &  8 & 0.133333\\\\\n",
       "\t 1503960366 & 4/12/2016 2:00:00 AM  &  7 & 0.116667\\\\\n",
       "\t 1503960366 & 4/12/2016 3:00:00 AM  &  0 & 0.000000\\\\\n",
       "\t 1503960366 & 4/12/2016 4:00:00 AM  &  0 & 0.000000\\\\\n",
       "\t 1503960366 & 4/12/2016 5:00:00 AM  &  0 & 0.000000\\\\\n",
       "\\end{tabular}\n"
      ],
      "text/markdown": [
       "\n",
       "A tibble: 6 × 4\n",
       "\n",
       "| Id &lt;dbl&gt; | ActivityHour &lt;chr&gt; | TotalIntensity &lt;dbl&gt; | AverageIntensity &lt;dbl&gt; |\n",
       "|---|---|---|---|\n",
       "| 1503960366 | 4/12/2016 12:00:00 AM | 20 | 0.333333 |\n",
       "| 1503960366 | 4/12/2016 1:00:00 AM  |  8 | 0.133333 |\n",
       "| 1503960366 | 4/12/2016 2:00:00 AM  |  7 | 0.116667 |\n",
       "| 1503960366 | 4/12/2016 3:00:00 AM  |  0 | 0.000000 |\n",
       "| 1503960366 | 4/12/2016 4:00:00 AM  |  0 | 0.000000 |\n",
       "| 1503960366 | 4/12/2016 5:00:00 AM  |  0 | 0.000000 |\n",
       "\n"
      ],
      "text/plain": [
       "  Id         ActivityHour          TotalIntensity AverageIntensity\n",
       "1 1503960366 4/12/2016 12:00:00 AM 20             0.333333        \n",
       "2 1503960366 4/12/2016 1:00:00 AM   8             0.133333        \n",
       "3 1503960366 4/12/2016 2:00:00 AM   7             0.116667        \n",
       "4 1503960366 4/12/2016 3:00:00 AM   0             0.000000        \n",
       "5 1503960366 4/12/2016 4:00:00 AM   0             0.000000        \n",
       "6 1503960366 4/12/2016 5:00:00 AM   0             0.000000        "
      ]
     },
     "metadata": {},
     "output_type": "display_data"
    },
    {
     "name": "stdout",
     "output_type": "stream",
     "text": [
      "Rows: 22,099\n",
      "Columns: 3\n",
      "$ Id           \u001b[3m\u001b[90m<dbl>\u001b[39m\u001b[23m 1503960366, 1503960366, 1503960366, 1503960366, 150396036…\n",
      "$ ActivityHour \u001b[3m\u001b[90m<chr>\u001b[39m\u001b[23m \"4/12/2016 12:00:00 AM\", \"4/12/2016 1:00:00 AM\", \"4/12/20…\n",
      "$ StepTotal    \u001b[3m\u001b[90m<dbl>\u001b[39m\u001b[23m 373, 160, 151, 0, 0, 0, 0, 0, 250, 1864, 676, 360, 253, 2…\n"
     ]
    },
    {
     "data": {
      "text/html": [
       "<table class=\"dataframe\">\n",
       "<caption>A tibble: 6 × 3</caption>\n",
       "<thead>\n",
       "\t<tr><th scope=col>Id</th><th scope=col>ActivityHour</th><th scope=col>StepTotal</th></tr>\n",
       "\t<tr><th scope=col>&lt;dbl&gt;</th><th scope=col>&lt;chr&gt;</th><th scope=col>&lt;dbl&gt;</th></tr>\n",
       "</thead>\n",
       "<tbody>\n",
       "\t<tr><td>1503960366</td><td>4/12/2016 12:00:00 AM</td><td>373</td></tr>\n",
       "\t<tr><td>1503960366</td><td>4/12/2016 1:00:00 AM </td><td>160</td></tr>\n",
       "\t<tr><td>1503960366</td><td>4/12/2016 2:00:00 AM </td><td>151</td></tr>\n",
       "\t<tr><td>1503960366</td><td>4/12/2016 3:00:00 AM </td><td>  0</td></tr>\n",
       "\t<tr><td>1503960366</td><td>4/12/2016 4:00:00 AM </td><td>  0</td></tr>\n",
       "\t<tr><td>1503960366</td><td>4/12/2016 5:00:00 AM </td><td>  0</td></tr>\n",
       "</tbody>\n",
       "</table>\n"
      ],
      "text/latex": [
       "A tibble: 6 × 3\n",
       "\\begin{tabular}{lll}\n",
       " Id & ActivityHour & StepTotal\\\\\n",
       " <dbl> & <chr> & <dbl>\\\\\n",
       "\\hline\n",
       "\t 1503960366 & 4/12/2016 12:00:00 AM & 373\\\\\n",
       "\t 1503960366 & 4/12/2016 1:00:00 AM  & 160\\\\\n",
       "\t 1503960366 & 4/12/2016 2:00:00 AM  & 151\\\\\n",
       "\t 1503960366 & 4/12/2016 3:00:00 AM  &   0\\\\\n",
       "\t 1503960366 & 4/12/2016 4:00:00 AM  &   0\\\\\n",
       "\t 1503960366 & 4/12/2016 5:00:00 AM  &   0\\\\\n",
       "\\end{tabular}\n"
      ],
      "text/markdown": [
       "\n",
       "A tibble: 6 × 3\n",
       "\n",
       "| Id &lt;dbl&gt; | ActivityHour &lt;chr&gt; | StepTotal &lt;dbl&gt; |\n",
       "|---|---|---|\n",
       "| 1503960366 | 4/12/2016 12:00:00 AM | 373 |\n",
       "| 1503960366 | 4/12/2016 1:00:00 AM  | 160 |\n",
       "| 1503960366 | 4/12/2016 2:00:00 AM  | 151 |\n",
       "| 1503960366 | 4/12/2016 3:00:00 AM  |   0 |\n",
       "| 1503960366 | 4/12/2016 4:00:00 AM  |   0 |\n",
       "| 1503960366 | 4/12/2016 5:00:00 AM  |   0 |\n",
       "\n"
      ],
      "text/plain": [
       "  Id         ActivityHour          StepTotal\n",
       "1 1503960366 4/12/2016 12:00:00 AM 373      \n",
       "2 1503960366 4/12/2016 1:00:00 AM  160      \n",
       "3 1503960366 4/12/2016 2:00:00 AM  151      \n",
       "4 1503960366 4/12/2016 3:00:00 AM    0      \n",
       "5 1503960366 4/12/2016 4:00:00 AM    0      \n",
       "6 1503960366 4/12/2016 5:00:00 AM    0      "
      ]
     },
     "metadata": {},
     "output_type": "display_data"
    },
    {
     "name": "stdout",
     "output_type": "stream",
     "text": [
      "Rows: 67\n",
      "Columns: 8\n",
      "$ Id             \u001b[3m\u001b[90m<dbl>\u001b[39m\u001b[23m 1503960366, 1503960366, 1927972279, 2873212765, 2873212…\n",
      "$ Date           \u001b[3m\u001b[90m<chr>\u001b[39m\u001b[23m \"5/2/2016 11:59:59 PM\", \"5/3/2016 11:59:59 PM\", \"4/13/2…\n",
      "$ WeightKg       \u001b[3m\u001b[90m<dbl>\u001b[39m\u001b[23m 52.6, 52.6, 133.5, 56.7, 57.3, 72.4, 72.3, 69.7, 70.3, …\n",
      "$ WeightPounds   \u001b[3m\u001b[90m<dbl>\u001b[39m\u001b[23m 115.9631, 115.9631, 294.3171, 125.0021, 126.3249, 159.6…\n",
      "$ Fat            \u001b[3m\u001b[90m<dbl>\u001b[39m\u001b[23m 22, NA, NA, NA, NA, 25, NA, NA, NA, NA, NA, NA, NA, NA,…\n",
      "$ BMI            \u001b[3m\u001b[90m<dbl>\u001b[39m\u001b[23m 22.65, 22.65, 47.54, 21.45, 21.69, 27.45, 27.38, 27.25,…\n",
      "$ IsManualReport \u001b[3m\u001b[90m<lgl>\u001b[39m\u001b[23m TRUE, TRUE, FALSE, TRUE, TRUE, TRUE, TRUE, TRUE, TRUE, …\n",
      "$ LogId          \u001b[3m\u001b[90m<dbl>\u001b[39m\u001b[23m 1.462234e+12, 1.462320e+12, 1.460510e+12, 1.461283e+12,…\n"
     ]
    },
    {
     "data": {
      "text/html": [
       "<table class=\"dataframe\">\n",
       "<caption>A tibble: 6 × 8</caption>\n",
       "<thead>\n",
       "\t<tr><th scope=col>Id</th><th scope=col>Date</th><th scope=col>WeightKg</th><th scope=col>WeightPounds</th><th scope=col>Fat</th><th scope=col>BMI</th><th scope=col>IsManualReport</th><th scope=col>LogId</th></tr>\n",
       "\t<tr><th scope=col>&lt;dbl&gt;</th><th scope=col>&lt;chr&gt;</th><th scope=col>&lt;dbl&gt;</th><th scope=col>&lt;dbl&gt;</th><th scope=col>&lt;dbl&gt;</th><th scope=col>&lt;dbl&gt;</th><th scope=col>&lt;lgl&gt;</th><th scope=col>&lt;dbl&gt;</th></tr>\n",
       "</thead>\n",
       "<tbody>\n",
       "\t<tr><td>1503960366</td><td>5/2/2016 11:59:59 PM </td><td> 52.6</td><td>115.9631</td><td>22</td><td>22.65</td><td> TRUE</td><td>1.462234e+12</td></tr>\n",
       "\t<tr><td>1503960366</td><td>5/3/2016 11:59:59 PM </td><td> 52.6</td><td>115.9631</td><td>NA</td><td>22.65</td><td> TRUE</td><td>1.462320e+12</td></tr>\n",
       "\t<tr><td>1927972279</td><td>4/13/2016 1:08:52 AM </td><td>133.5</td><td>294.3171</td><td>NA</td><td>47.54</td><td>FALSE</td><td>1.460510e+12</td></tr>\n",
       "\t<tr><td>2873212765</td><td>4/21/2016 11:59:59 PM</td><td> 56.7</td><td>125.0021</td><td>NA</td><td>21.45</td><td> TRUE</td><td>1.461283e+12</td></tr>\n",
       "\t<tr><td>2873212765</td><td>5/12/2016 11:59:59 PM</td><td> 57.3</td><td>126.3249</td><td>NA</td><td>21.69</td><td> TRUE</td><td>1.463098e+12</td></tr>\n",
       "\t<tr><td>4319703577</td><td>4/17/2016 11:59:59 PM</td><td> 72.4</td><td>159.6147</td><td>25</td><td>27.45</td><td> TRUE</td><td>1.460938e+12</td></tr>\n",
       "</tbody>\n",
       "</table>\n"
      ],
      "text/latex": [
       "A tibble: 6 × 8\n",
       "\\begin{tabular}{llllllll}\n",
       " Id & Date & WeightKg & WeightPounds & Fat & BMI & IsManualReport & LogId\\\\\n",
       " <dbl> & <chr> & <dbl> & <dbl> & <dbl> & <dbl> & <lgl> & <dbl>\\\\\n",
       "\\hline\n",
       "\t 1503960366 & 5/2/2016 11:59:59 PM  &  52.6 & 115.9631 & 22 & 22.65 &  TRUE & 1.462234e+12\\\\\n",
       "\t 1503960366 & 5/3/2016 11:59:59 PM  &  52.6 & 115.9631 & NA & 22.65 &  TRUE & 1.462320e+12\\\\\n",
       "\t 1927972279 & 4/13/2016 1:08:52 AM  & 133.5 & 294.3171 & NA & 47.54 & FALSE & 1.460510e+12\\\\\n",
       "\t 2873212765 & 4/21/2016 11:59:59 PM &  56.7 & 125.0021 & NA & 21.45 &  TRUE & 1.461283e+12\\\\\n",
       "\t 2873212765 & 5/12/2016 11:59:59 PM &  57.3 & 126.3249 & NA & 21.69 &  TRUE & 1.463098e+12\\\\\n",
       "\t 4319703577 & 4/17/2016 11:59:59 PM &  72.4 & 159.6147 & 25 & 27.45 &  TRUE & 1.460938e+12\\\\\n",
       "\\end{tabular}\n"
      ],
      "text/markdown": [
       "\n",
       "A tibble: 6 × 8\n",
       "\n",
       "| Id &lt;dbl&gt; | Date &lt;chr&gt; | WeightKg &lt;dbl&gt; | WeightPounds &lt;dbl&gt; | Fat &lt;dbl&gt; | BMI &lt;dbl&gt; | IsManualReport &lt;lgl&gt; | LogId &lt;dbl&gt; |\n",
       "|---|---|---|---|---|---|---|---|\n",
       "| 1503960366 | 5/2/2016 11:59:59 PM  |  52.6 | 115.9631 | 22 | 22.65 |  TRUE | 1.462234e+12 |\n",
       "| 1503960366 | 5/3/2016 11:59:59 PM  |  52.6 | 115.9631 | NA | 22.65 |  TRUE | 1.462320e+12 |\n",
       "| 1927972279 | 4/13/2016 1:08:52 AM  | 133.5 | 294.3171 | NA | 47.54 | FALSE | 1.460510e+12 |\n",
       "| 2873212765 | 4/21/2016 11:59:59 PM |  56.7 | 125.0021 | NA | 21.45 |  TRUE | 1.461283e+12 |\n",
       "| 2873212765 | 5/12/2016 11:59:59 PM |  57.3 | 126.3249 | NA | 21.69 |  TRUE | 1.463098e+12 |\n",
       "| 4319703577 | 4/17/2016 11:59:59 PM |  72.4 | 159.6147 | 25 | 27.45 |  TRUE | 1.460938e+12 |\n",
       "\n"
      ],
      "text/plain": [
       "  Id         Date                  WeightKg WeightPounds Fat BMI  \n",
       "1 1503960366 5/2/2016 11:59:59 PM   52.6    115.9631     22  22.65\n",
       "2 1503960366 5/3/2016 11:59:59 PM   52.6    115.9631     NA  22.65\n",
       "3 1927972279 4/13/2016 1:08:52 AM  133.5    294.3171     NA  47.54\n",
       "4 2873212765 4/21/2016 11:59:59 PM  56.7    125.0021     NA  21.45\n",
       "5 2873212765 5/12/2016 11:59:59 PM  57.3    126.3249     NA  21.69\n",
       "6 4319703577 4/17/2016 11:59:59 PM  72.4    159.6147     25  27.45\n",
       "  IsManualReport LogId       \n",
       "1  TRUE          1.462234e+12\n",
       "2  TRUE          1.462320e+12\n",
       "3 FALSE          1.460510e+12\n",
       "4  TRUE          1.461283e+12\n",
       "5  TRUE          1.463098e+12\n",
       "6  TRUE          1.460938e+12"
      ]
     },
     "metadata": {},
     "output_type": "display_data"
    }
   ],
   "source": [
    "glimpse(daily_activity)\n",
    "head(daily_activity)\n",
    "\n",
    "glimpse(daily_sleep)\n",
    "head(daily_sleep)\n",
    "\n",
    "glimpse(hourly_calories)\n",
    "head(hourly_calories)\n",
    "\n",
    "glimpse(hourly_intensities)\n",
    "head(hourly_intensities)\n",
    "\n",
    "glimpse(hourly_steps)\n",
    "head(hourly_steps)\n",
    "\n",
    "glimpse(weight_log_info)\n",
    "head(weight_log_info)"
   ]
  },
  {
   "cell_type": "markdown",
   "id": "81038460",
   "metadata": {
    "execution": {
     "iopub.execute_input": "2023-03-09T06:43:44.336364Z",
     "iopub.status.busy": "2023-03-09T06:43:44.334553Z",
     "iopub.status.idle": "2023-03-09T06:43:44.374255Z"
    },
    "papermill": {
     "duration": 0.013777,
     "end_time": "2023-03-11T14:29:02.313099",
     "exception": false,
     "start_time": "2023-03-11T14:29:02.299322",
     "status": "completed"
    },
    "tags": []
   },
   "source": [
    "### Cleaning the data\n",
    "Now, we have a clear idea of what the data includes. \n",
    "If we merge the hourly_calories, hourly_intensities, hourly_steps and create hourly_activity data just like the daily_activity data, it will be more efficient and easier to analyze the data. We can also merge daily_activity and daily_sleep for the same reason.\n",
    "\n",
    "First, let's make sure all the column names are unique and consistent in the data."
   ]
  },
  {
   "cell_type": "code",
   "execution_count": 4,
   "id": "75a9efd8",
   "metadata": {
    "execution": {
     "iopub.execute_input": "2023-03-11T14:29:02.345079Z",
     "iopub.status.busy": "2023-03-11T14:29:02.343330Z",
     "iopub.status.idle": "2023-03-11T14:29:02.533748Z",
     "shell.execute_reply": "2023-03-11T14:29:02.531930Z"
    },
    "papermill": {
     "duration": 0.210578,
     "end_time": "2023-03-11T14:29:02.537652",
     "exception": false,
     "start_time": "2023-03-11T14:29:02.327074",
     "status": "completed"
    },
    "tags": []
   },
   "outputs": [],
   "source": [
    "daily_activity <- clean_names(daily_activity)\n",
    "daily_sleep <- clean_names(daily_sleep)\n",
    "hourly_calories <- clean_names(hourly_calories)\n",
    "hourly_intensities <- clean_names(hourly_intensities)\n",
    "hourly_steps <- clean_names(hourly_steps)\n",
    "weight_log_info <- clean_names(weight_log_info)"
   ]
  },
  {
   "cell_type": "code",
   "execution_count": 5,
   "id": "1c804a6e",
   "metadata": {
    "execution": {
     "iopub.execute_input": "2023-03-11T14:29:02.569897Z",
     "iopub.status.busy": "2023-03-11T14:29:02.568179Z",
     "iopub.status.idle": "2023-03-11T14:29:02.682906Z",
     "shell.execute_reply": "2023-03-11T14:29:02.681141Z"
    },
    "papermill": {
     "duration": 0.133592,
     "end_time": "2023-03-11T14:29:02.685522",
     "exception": false,
     "start_time": "2023-03-11T14:29:02.551930",
     "status": "completed"
    },
    "tags": []
   },
   "outputs": [
    {
     "data": {
      "text/html": [
       "<table class=\"dataframe\">\n",
       "<caption>A tibble: 3 × 15</caption>\n",
       "<thead>\n",
       "\t<tr><th scope=col>id</th><th scope=col>activity_date</th><th scope=col>total_steps</th><th scope=col>total_distance</th><th scope=col>tracker_distance</th><th scope=col>logged_activities_distance</th><th scope=col>very_active_distance</th><th scope=col>moderately_active_distance</th><th scope=col>light_active_distance</th><th scope=col>sedentary_active_distance</th><th scope=col>very_active_minutes</th><th scope=col>fairly_active_minutes</th><th scope=col>lightly_active_minutes</th><th scope=col>sedentary_minutes</th><th scope=col>calories</th></tr>\n",
       "\t<tr><th scope=col>&lt;dbl&gt;</th><th scope=col>&lt;chr&gt;</th><th scope=col>&lt;dbl&gt;</th><th scope=col>&lt;dbl&gt;</th><th scope=col>&lt;dbl&gt;</th><th scope=col>&lt;dbl&gt;</th><th scope=col>&lt;dbl&gt;</th><th scope=col>&lt;dbl&gt;</th><th scope=col>&lt;dbl&gt;</th><th scope=col>&lt;dbl&gt;</th><th scope=col>&lt;dbl&gt;</th><th scope=col>&lt;dbl&gt;</th><th scope=col>&lt;dbl&gt;</th><th scope=col>&lt;dbl&gt;</th><th scope=col>&lt;dbl&gt;</th></tr>\n",
       "</thead>\n",
       "<tbody>\n",
       "\t<tr><td>1503960366</td><td>4/12/2016</td><td>13162</td><td>8.50</td><td>8.50</td><td>0</td><td>1.88</td><td>0.55</td><td>6.06</td><td>0</td><td>25</td><td>13</td><td>328</td><td> 728</td><td>1985</td></tr>\n",
       "\t<tr><td>1503960366</td><td>4/13/2016</td><td>10735</td><td>6.97</td><td>6.97</td><td>0</td><td>1.57</td><td>0.69</td><td>4.71</td><td>0</td><td>21</td><td>19</td><td>217</td><td> 776</td><td>1797</td></tr>\n",
       "\t<tr><td>1503960366</td><td>4/14/2016</td><td>10460</td><td>6.74</td><td>6.74</td><td>0</td><td>2.44</td><td>0.40</td><td>3.91</td><td>0</td><td>30</td><td>11</td><td>181</td><td>1218</td><td>1776</td></tr>\n",
       "</tbody>\n",
       "</table>\n"
      ],
      "text/latex": [
       "A tibble: 3 × 15\n",
       "\\begin{tabular}{lllllllllllllll}\n",
       " id & activity\\_date & total\\_steps & total\\_distance & tracker\\_distance & logged\\_activities\\_distance & very\\_active\\_distance & moderately\\_active\\_distance & light\\_active\\_distance & sedentary\\_active\\_distance & very\\_active\\_minutes & fairly\\_active\\_minutes & lightly\\_active\\_minutes & sedentary\\_minutes & calories\\\\\n",
       " <dbl> & <chr> & <dbl> & <dbl> & <dbl> & <dbl> & <dbl> & <dbl> & <dbl> & <dbl> & <dbl> & <dbl> & <dbl> & <dbl> & <dbl>\\\\\n",
       "\\hline\n",
       "\t 1503960366 & 4/12/2016 & 13162 & 8.50 & 8.50 & 0 & 1.88 & 0.55 & 6.06 & 0 & 25 & 13 & 328 &  728 & 1985\\\\\n",
       "\t 1503960366 & 4/13/2016 & 10735 & 6.97 & 6.97 & 0 & 1.57 & 0.69 & 4.71 & 0 & 21 & 19 & 217 &  776 & 1797\\\\\n",
       "\t 1503960366 & 4/14/2016 & 10460 & 6.74 & 6.74 & 0 & 2.44 & 0.40 & 3.91 & 0 & 30 & 11 & 181 & 1218 & 1776\\\\\n",
       "\\end{tabular}\n"
      ],
      "text/markdown": [
       "\n",
       "A tibble: 3 × 15\n",
       "\n",
       "| id &lt;dbl&gt; | activity_date &lt;chr&gt; | total_steps &lt;dbl&gt; | total_distance &lt;dbl&gt; | tracker_distance &lt;dbl&gt; | logged_activities_distance &lt;dbl&gt; | very_active_distance &lt;dbl&gt; | moderately_active_distance &lt;dbl&gt; | light_active_distance &lt;dbl&gt; | sedentary_active_distance &lt;dbl&gt; | very_active_minutes &lt;dbl&gt; | fairly_active_minutes &lt;dbl&gt; | lightly_active_minutes &lt;dbl&gt; | sedentary_minutes &lt;dbl&gt; | calories &lt;dbl&gt; |\n",
       "|---|---|---|---|---|---|---|---|---|---|---|---|---|---|---|\n",
       "| 1503960366 | 4/12/2016 | 13162 | 8.50 | 8.50 | 0 | 1.88 | 0.55 | 6.06 | 0 | 25 | 13 | 328 |  728 | 1985 |\n",
       "| 1503960366 | 4/13/2016 | 10735 | 6.97 | 6.97 | 0 | 1.57 | 0.69 | 4.71 | 0 | 21 | 19 | 217 |  776 | 1797 |\n",
       "| 1503960366 | 4/14/2016 | 10460 | 6.74 | 6.74 | 0 | 2.44 | 0.40 | 3.91 | 0 | 30 | 11 | 181 | 1218 | 1776 |\n",
       "\n"
      ],
      "text/plain": [
       "  id         activity_date total_steps total_distance tracker_distance\n",
       "1 1503960366 4/12/2016     13162       8.50           8.50            \n",
       "2 1503960366 4/13/2016     10735       6.97           6.97            \n",
       "3 1503960366 4/14/2016     10460       6.74           6.74            \n",
       "  logged_activities_distance very_active_distance moderately_active_distance\n",
       "1 0                          1.88                 0.55                      \n",
       "2 0                          1.57                 0.69                      \n",
       "3 0                          2.44                 0.40                      \n",
       "  light_active_distance sedentary_active_distance very_active_minutes\n",
       "1 6.06                  0                         25                 \n",
       "2 4.71                  0                         21                 \n",
       "3 3.91                  0                         30                 \n",
       "  fairly_active_minutes lightly_active_minutes sedentary_minutes calories\n",
       "1 13                    328                     728              1985    \n",
       "2 19                    217                     776              1797    \n",
       "3 11                    181                    1218              1776    "
      ]
     },
     "metadata": {},
     "output_type": "display_data"
    },
    {
     "data": {
      "text/html": [
       "<table class=\"dataframe\">\n",
       "<caption>A tibble: 3 × 5</caption>\n",
       "<thead>\n",
       "\t<tr><th scope=col>id</th><th scope=col>sleep_day</th><th scope=col>total_sleep_records</th><th scope=col>total_minutes_asleep</th><th scope=col>total_time_in_bed</th></tr>\n",
       "\t<tr><th scope=col>&lt;dbl&gt;</th><th scope=col>&lt;chr&gt;</th><th scope=col>&lt;dbl&gt;</th><th scope=col>&lt;dbl&gt;</th><th scope=col>&lt;dbl&gt;</th></tr>\n",
       "</thead>\n",
       "<tbody>\n",
       "\t<tr><td>1503960366</td><td>4/12/2016 12:00:00 AM</td><td>1</td><td>327</td><td>346</td></tr>\n",
       "\t<tr><td>1503960366</td><td>4/13/2016 12:00:00 AM</td><td>2</td><td>384</td><td>407</td></tr>\n",
       "\t<tr><td>1503960366</td><td>4/15/2016 12:00:00 AM</td><td>1</td><td>412</td><td>442</td></tr>\n",
       "</tbody>\n",
       "</table>\n"
      ],
      "text/latex": [
       "A tibble: 3 × 5\n",
       "\\begin{tabular}{lllll}\n",
       " id & sleep\\_day & total\\_sleep\\_records & total\\_minutes\\_asleep & total\\_time\\_in\\_bed\\\\\n",
       " <dbl> & <chr> & <dbl> & <dbl> & <dbl>\\\\\n",
       "\\hline\n",
       "\t 1503960366 & 4/12/2016 12:00:00 AM & 1 & 327 & 346\\\\\n",
       "\t 1503960366 & 4/13/2016 12:00:00 AM & 2 & 384 & 407\\\\\n",
       "\t 1503960366 & 4/15/2016 12:00:00 AM & 1 & 412 & 442\\\\\n",
       "\\end{tabular}\n"
      ],
      "text/markdown": [
       "\n",
       "A tibble: 3 × 5\n",
       "\n",
       "| id &lt;dbl&gt; | sleep_day &lt;chr&gt; | total_sleep_records &lt;dbl&gt; | total_minutes_asleep &lt;dbl&gt; | total_time_in_bed &lt;dbl&gt; |\n",
       "|---|---|---|---|---|\n",
       "| 1503960366 | 4/12/2016 12:00:00 AM | 1 | 327 | 346 |\n",
       "| 1503960366 | 4/13/2016 12:00:00 AM | 2 | 384 | 407 |\n",
       "| 1503960366 | 4/15/2016 12:00:00 AM | 1 | 412 | 442 |\n",
       "\n"
      ],
      "text/plain": [
       "  id         sleep_day             total_sleep_records total_minutes_asleep\n",
       "1 1503960366 4/12/2016 12:00:00 AM 1                   327                 \n",
       "2 1503960366 4/13/2016 12:00:00 AM 2                   384                 \n",
       "3 1503960366 4/15/2016 12:00:00 AM 1                   412                 \n",
       "  total_time_in_bed\n",
       "1 346              \n",
       "2 407              \n",
       "3 442              "
      ]
     },
     "metadata": {},
     "output_type": "display_data"
    },
    {
     "data": {
      "text/html": [
       "<table class=\"dataframe\">\n",
       "<caption>A tibble: 3 × 3</caption>\n",
       "<thead>\n",
       "\t<tr><th scope=col>id</th><th scope=col>activity_hour</th><th scope=col>calories</th></tr>\n",
       "\t<tr><th scope=col>&lt;dbl&gt;</th><th scope=col>&lt;chr&gt;</th><th scope=col>&lt;dbl&gt;</th></tr>\n",
       "</thead>\n",
       "<tbody>\n",
       "\t<tr><td>1503960366</td><td>4/12/2016 12:00:00 AM</td><td>81</td></tr>\n",
       "\t<tr><td>1503960366</td><td>4/12/2016 1:00:00 AM </td><td>61</td></tr>\n",
       "\t<tr><td>1503960366</td><td>4/12/2016 2:00:00 AM </td><td>59</td></tr>\n",
       "</tbody>\n",
       "</table>\n"
      ],
      "text/latex": [
       "A tibble: 3 × 3\n",
       "\\begin{tabular}{lll}\n",
       " id & activity\\_hour & calories\\\\\n",
       " <dbl> & <chr> & <dbl>\\\\\n",
       "\\hline\n",
       "\t 1503960366 & 4/12/2016 12:00:00 AM & 81\\\\\n",
       "\t 1503960366 & 4/12/2016 1:00:00 AM  & 61\\\\\n",
       "\t 1503960366 & 4/12/2016 2:00:00 AM  & 59\\\\\n",
       "\\end{tabular}\n"
      ],
      "text/markdown": [
       "\n",
       "A tibble: 3 × 3\n",
       "\n",
       "| id &lt;dbl&gt; | activity_hour &lt;chr&gt; | calories &lt;dbl&gt; |\n",
       "|---|---|---|\n",
       "| 1503960366 | 4/12/2016 12:00:00 AM | 81 |\n",
       "| 1503960366 | 4/12/2016 1:00:00 AM  | 61 |\n",
       "| 1503960366 | 4/12/2016 2:00:00 AM  | 59 |\n",
       "\n"
      ],
      "text/plain": [
       "  id         activity_hour         calories\n",
       "1 1503960366 4/12/2016 12:00:00 AM 81      \n",
       "2 1503960366 4/12/2016 1:00:00 AM  61      \n",
       "3 1503960366 4/12/2016 2:00:00 AM  59      "
      ]
     },
     "metadata": {},
     "output_type": "display_data"
    },
    {
     "data": {
      "text/html": [
       "<table class=\"dataframe\">\n",
       "<caption>A tibble: 3 × 4</caption>\n",
       "<thead>\n",
       "\t<tr><th scope=col>id</th><th scope=col>activity_hour</th><th scope=col>total_intensity</th><th scope=col>average_intensity</th></tr>\n",
       "\t<tr><th scope=col>&lt;dbl&gt;</th><th scope=col>&lt;chr&gt;</th><th scope=col>&lt;dbl&gt;</th><th scope=col>&lt;dbl&gt;</th></tr>\n",
       "</thead>\n",
       "<tbody>\n",
       "\t<tr><td>1503960366</td><td>4/12/2016 12:00:00 AM</td><td>20</td><td>0.333333</td></tr>\n",
       "\t<tr><td>1503960366</td><td>4/12/2016 1:00:00 AM </td><td> 8</td><td>0.133333</td></tr>\n",
       "\t<tr><td>1503960366</td><td>4/12/2016 2:00:00 AM </td><td> 7</td><td>0.116667</td></tr>\n",
       "</tbody>\n",
       "</table>\n"
      ],
      "text/latex": [
       "A tibble: 3 × 4\n",
       "\\begin{tabular}{llll}\n",
       " id & activity\\_hour & total\\_intensity & average\\_intensity\\\\\n",
       " <dbl> & <chr> & <dbl> & <dbl>\\\\\n",
       "\\hline\n",
       "\t 1503960366 & 4/12/2016 12:00:00 AM & 20 & 0.333333\\\\\n",
       "\t 1503960366 & 4/12/2016 1:00:00 AM  &  8 & 0.133333\\\\\n",
       "\t 1503960366 & 4/12/2016 2:00:00 AM  &  7 & 0.116667\\\\\n",
       "\\end{tabular}\n"
      ],
      "text/markdown": [
       "\n",
       "A tibble: 3 × 4\n",
       "\n",
       "| id &lt;dbl&gt; | activity_hour &lt;chr&gt; | total_intensity &lt;dbl&gt; | average_intensity &lt;dbl&gt; |\n",
       "|---|---|---|---|\n",
       "| 1503960366 | 4/12/2016 12:00:00 AM | 20 | 0.333333 |\n",
       "| 1503960366 | 4/12/2016 1:00:00 AM  |  8 | 0.133333 |\n",
       "| 1503960366 | 4/12/2016 2:00:00 AM  |  7 | 0.116667 |\n",
       "\n"
      ],
      "text/plain": [
       "  id         activity_hour         total_intensity average_intensity\n",
       "1 1503960366 4/12/2016 12:00:00 AM 20              0.333333         \n",
       "2 1503960366 4/12/2016 1:00:00 AM   8              0.133333         \n",
       "3 1503960366 4/12/2016 2:00:00 AM   7              0.116667         "
      ]
     },
     "metadata": {},
     "output_type": "display_data"
    },
    {
     "data": {
      "text/html": [
       "<table class=\"dataframe\">\n",
       "<caption>A tibble: 3 × 3</caption>\n",
       "<thead>\n",
       "\t<tr><th scope=col>id</th><th scope=col>activity_hour</th><th scope=col>step_total</th></tr>\n",
       "\t<tr><th scope=col>&lt;dbl&gt;</th><th scope=col>&lt;chr&gt;</th><th scope=col>&lt;dbl&gt;</th></tr>\n",
       "</thead>\n",
       "<tbody>\n",
       "\t<tr><td>1503960366</td><td>4/12/2016 12:00:00 AM</td><td>373</td></tr>\n",
       "\t<tr><td>1503960366</td><td>4/12/2016 1:00:00 AM </td><td>160</td></tr>\n",
       "\t<tr><td>1503960366</td><td>4/12/2016 2:00:00 AM </td><td>151</td></tr>\n",
       "</tbody>\n",
       "</table>\n"
      ],
      "text/latex": [
       "A tibble: 3 × 3\n",
       "\\begin{tabular}{lll}\n",
       " id & activity\\_hour & step\\_total\\\\\n",
       " <dbl> & <chr> & <dbl>\\\\\n",
       "\\hline\n",
       "\t 1503960366 & 4/12/2016 12:00:00 AM & 373\\\\\n",
       "\t 1503960366 & 4/12/2016 1:00:00 AM  & 160\\\\\n",
       "\t 1503960366 & 4/12/2016 2:00:00 AM  & 151\\\\\n",
       "\\end{tabular}\n"
      ],
      "text/markdown": [
       "\n",
       "A tibble: 3 × 3\n",
       "\n",
       "| id &lt;dbl&gt; | activity_hour &lt;chr&gt; | step_total &lt;dbl&gt; |\n",
       "|---|---|---|\n",
       "| 1503960366 | 4/12/2016 12:00:00 AM | 373 |\n",
       "| 1503960366 | 4/12/2016 1:00:00 AM  | 160 |\n",
       "| 1503960366 | 4/12/2016 2:00:00 AM  | 151 |\n",
       "\n"
      ],
      "text/plain": [
       "  id         activity_hour         step_total\n",
       "1 1503960366 4/12/2016 12:00:00 AM 373       \n",
       "2 1503960366 4/12/2016 1:00:00 AM  160       \n",
       "3 1503960366 4/12/2016 2:00:00 AM  151       "
      ]
     },
     "metadata": {},
     "output_type": "display_data"
    },
    {
     "data": {
      "text/html": [
       "<table class=\"dataframe\">\n",
       "<caption>A tibble: 3 × 8</caption>\n",
       "<thead>\n",
       "\t<tr><th scope=col>id</th><th scope=col>date</th><th scope=col>weight_kg</th><th scope=col>weight_pounds</th><th scope=col>fat</th><th scope=col>bmi</th><th scope=col>is_manual_report</th><th scope=col>log_id</th></tr>\n",
       "\t<tr><th scope=col>&lt;dbl&gt;</th><th scope=col>&lt;chr&gt;</th><th scope=col>&lt;dbl&gt;</th><th scope=col>&lt;dbl&gt;</th><th scope=col>&lt;dbl&gt;</th><th scope=col>&lt;dbl&gt;</th><th scope=col>&lt;lgl&gt;</th><th scope=col>&lt;dbl&gt;</th></tr>\n",
       "</thead>\n",
       "<tbody>\n",
       "\t<tr><td>1503960366</td><td>5/2/2016 11:59:59 PM</td><td> 52.6</td><td>115.9631</td><td>22</td><td>22.65</td><td> TRUE</td><td>1.462234e+12</td></tr>\n",
       "\t<tr><td>1503960366</td><td>5/3/2016 11:59:59 PM</td><td> 52.6</td><td>115.9631</td><td>NA</td><td>22.65</td><td> TRUE</td><td>1.462320e+12</td></tr>\n",
       "\t<tr><td>1927972279</td><td>4/13/2016 1:08:52 AM</td><td>133.5</td><td>294.3171</td><td>NA</td><td>47.54</td><td>FALSE</td><td>1.460510e+12</td></tr>\n",
       "</tbody>\n",
       "</table>\n"
      ],
      "text/latex": [
       "A tibble: 3 × 8\n",
       "\\begin{tabular}{llllllll}\n",
       " id & date & weight\\_kg & weight\\_pounds & fat & bmi & is\\_manual\\_report & log\\_id\\\\\n",
       " <dbl> & <chr> & <dbl> & <dbl> & <dbl> & <dbl> & <lgl> & <dbl>\\\\\n",
       "\\hline\n",
       "\t 1503960366 & 5/2/2016 11:59:59 PM &  52.6 & 115.9631 & 22 & 22.65 &  TRUE & 1.462234e+12\\\\\n",
       "\t 1503960366 & 5/3/2016 11:59:59 PM &  52.6 & 115.9631 & NA & 22.65 &  TRUE & 1.462320e+12\\\\\n",
       "\t 1927972279 & 4/13/2016 1:08:52 AM & 133.5 & 294.3171 & NA & 47.54 & FALSE & 1.460510e+12\\\\\n",
       "\\end{tabular}\n"
      ],
      "text/markdown": [
       "\n",
       "A tibble: 3 × 8\n",
       "\n",
       "| id &lt;dbl&gt; | date &lt;chr&gt; | weight_kg &lt;dbl&gt; | weight_pounds &lt;dbl&gt; | fat &lt;dbl&gt; | bmi &lt;dbl&gt; | is_manual_report &lt;lgl&gt; | log_id &lt;dbl&gt; |\n",
       "|---|---|---|---|---|---|---|---|\n",
       "| 1503960366 | 5/2/2016 11:59:59 PM |  52.6 | 115.9631 | 22 | 22.65 |  TRUE | 1.462234e+12 |\n",
       "| 1503960366 | 5/3/2016 11:59:59 PM |  52.6 | 115.9631 | NA | 22.65 |  TRUE | 1.462320e+12 |\n",
       "| 1927972279 | 4/13/2016 1:08:52 AM | 133.5 | 294.3171 | NA | 47.54 | FALSE | 1.460510e+12 |\n",
       "\n"
      ],
      "text/plain": [
       "  id         date                 weight_kg weight_pounds fat bmi  \n",
       "1 1503960366 5/2/2016 11:59:59 PM  52.6     115.9631      22  22.65\n",
       "2 1503960366 5/3/2016 11:59:59 PM  52.6     115.9631      NA  22.65\n",
       "3 1927972279 4/13/2016 1:08:52 AM 133.5     294.3171      NA  47.54\n",
       "  is_manual_report log_id      \n",
       "1  TRUE            1.462234e+12\n",
       "2  TRUE            1.462320e+12\n",
       "3 FALSE            1.460510e+12"
      ]
     },
     "metadata": {},
     "output_type": "display_data"
    }
   ],
   "source": [
    "head(daily_activity,3)\n",
    "head(daily_sleep,3)\n",
    "head(hourly_calories,3)\n",
    "head(hourly_intensities,3)\n",
    "head(hourly_steps,3)\n",
    "head(weight_log_info,3)"
   ]
  },
  {
   "cell_type": "markdown",
   "id": "80cd4625",
   "metadata": {
    "papermill": {
     "duration": 0.014523,
     "end_time": "2023-03-11T14:29:02.715306",
     "exception": false,
     "start_time": "2023-03-11T14:29:02.700783",
     "status": "completed"
    },
    "tags": []
   },
   "source": [
    "We have date and time data in string format. Let's change their format. "
   ]
  },
  {
   "cell_type": "code",
   "execution_count": 6,
   "id": "ef5c0436",
   "metadata": {
    "execution": {
     "iopub.execute_input": "2023-03-11T14:29:02.749228Z",
     "iopub.status.busy": "2023-03-11T14:29:02.747729Z",
     "iopub.status.idle": "2023-03-11T14:29:02.871028Z",
     "shell.execute_reply": "2023-03-11T14:29:02.869274Z"
    },
    "papermill": {
     "duration": 0.142919,
     "end_time": "2023-03-11T14:29:02.873343",
     "exception": false,
     "start_time": "2023-03-11T14:29:02.730424",
     "status": "completed"
    },
    "tags": []
   },
   "outputs": [],
   "source": [
    "daily_activity$activity_date = as.Date(daily_activity$activity_date, format=\"%m/%d/%Y\", tz=Sys.timezone())\n",
    "daily_sleep$sleep_day = as.Date(daily_sleep$sleep_day, format=\"%m/%d/%Y\", tz=Sys.timezone())\n",
    "weight_log_info$date = as.Date(weight_log_info$date, format=\"%m/%d/%Y\", tz=Sys.timezone())\n",
    "\n",
    "# We also remove AM & PM from dates & times\n",
    "hourly_calories$activity_hour <- parse_date_time(hourly_calories$activity_hour, \"%m/%d/%y %I:%M:%S %p\")\n",
    "hourly_intensities$activity_hour <- parse_date_time(hourly_intensities$activity_hour, \"%m/%d/%y %I:%M:%S %p\")\n",
    "hourly_steps$activity_hour <- parse_date_time(hourly_steps$activity_hour, \"%m/%d/%y %I:%M:%S %p\")"
   ]
  },
  {
   "cell_type": "markdown",
   "id": "a575cea7",
   "metadata": {
    "papermill": {
     "duration": 0.014472,
     "end_time": "2023-03-11T14:29:02.902276",
     "exception": false,
     "start_time": "2023-03-11T14:29:02.887804",
     "status": "completed"
    },
    "tags": []
   },
   "source": [
    "Let's check how many unique users we have in each data."
   ]
  },
  {
   "cell_type": "code",
   "execution_count": 7,
   "id": "bafd3879",
   "metadata": {
    "execution": {
     "iopub.execute_input": "2023-03-11T14:29:02.934487Z",
     "iopub.status.busy": "2023-03-11T14:29:02.932987Z",
     "iopub.status.idle": "2023-03-11T14:29:02.978874Z",
     "shell.execute_reply": "2023-03-11T14:29:02.977143Z"
    },
    "papermill": {
     "duration": 0.064497,
     "end_time": "2023-03-11T14:29:02.981196",
     "exception": false,
     "start_time": "2023-03-11T14:29:02.916699",
     "status": "completed"
    },
    "tags": []
   },
   "outputs": [
    {
     "data": {
      "text/html": [
       "33"
      ],
      "text/latex": [
       "33"
      ],
      "text/markdown": [
       "33"
      ],
      "text/plain": [
       "[1] 33"
      ]
     },
     "metadata": {},
     "output_type": "display_data"
    },
    {
     "data": {
      "text/html": [
       "24"
      ],
      "text/latex": [
       "24"
      ],
      "text/markdown": [
       "24"
      ],
      "text/plain": [
       "[1] 24"
      ]
     },
     "metadata": {},
     "output_type": "display_data"
    },
    {
     "data": {
      "text/html": [
       "8"
      ],
      "text/latex": [
       "8"
      ],
      "text/markdown": [
       "8"
      ],
      "text/plain": [
       "[1] 8"
      ]
     },
     "metadata": {},
     "output_type": "display_data"
    },
    {
     "data": {
      "text/html": [
       "33"
      ],
      "text/latex": [
       "33"
      ],
      "text/markdown": [
       "33"
      ],
      "text/plain": [
       "[1] 33"
      ]
     },
     "metadata": {},
     "output_type": "display_data"
    },
    {
     "data": {
      "text/html": [
       "33"
      ],
      "text/latex": [
       "33"
      ],
      "text/markdown": [
       "33"
      ],
      "text/plain": [
       "[1] 33"
      ]
     },
     "metadata": {},
     "output_type": "display_data"
    },
    {
     "data": {
      "text/html": [
       "33"
      ],
      "text/latex": [
       "33"
      ],
      "text/markdown": [
       "33"
      ],
      "text/plain": [
       "[1] 33"
      ]
     },
     "metadata": {},
     "output_type": "display_data"
    }
   ],
   "source": [
    "n_unique(daily_activity$id)\n",
    "n_unique(daily_sleep$id)\n",
    "n_unique(weight_log_info$id)\n",
    "n_unique(hourly_calories$id)\n",
    "n_unique(hourly_intensities$id)\n",
    "n_unique(hourly_steps$id)"
   ]
  },
  {
   "cell_type": "markdown",
   "id": "79925e1a",
   "metadata": {
    "papermill": {
     "duration": 0.015695,
     "end_time": "2023-03-11T14:29:03.012810",
     "exception": false,
     "start_time": "2023-03-11T14:29:02.997115",
     "status": "completed"
    },
    "tags": []
   },
   "source": [
    "In the probability and statistics field, the central limit theorem (CLT) states that the distribution of sample means approximates a normal distribution as the sample size gets larger, regardless of the population's distribution. Sample sizes equal to or greater than 30 are often considered sufficient for the CLT to hold.\n",
    "\n",
    "Therefore, according to the CLT, the data with 33 unique users will be sufficient for the study in minimal conditions.\n",
    "\n",
    "We clearly see weight data includes only the data of 8 users. That's not enough for a reliable analysis so, we had better not use this data.\n",
    "\n",
    "In addition, daily_sleep data includes 24 unique users which does not match with the whole daily_activity data and also it does not hold the CLT. If we want to merge and analyze them together, we need to keep in mind that analysis may not be much reliable."
   ]
  },
  {
   "cell_type": "markdown",
   "id": "1f026371",
   "metadata": {
    "papermill": {
     "duration": 0.015076,
     "end_time": "2023-03-11T14:29:03.043070",
     "exception": false,
     "start_time": "2023-03-11T14:29:03.027994",
     "status": "completed"
    },
    "tags": []
   },
   "source": [
    "Now, let's check if there are any duplicate or null data and clear them if there exist."
   ]
  },
  {
   "cell_type": "code",
   "execution_count": 8,
   "id": "6eff8416",
   "metadata": {
    "execution": {
     "iopub.execute_input": "2023-03-11T14:29:03.076983Z",
     "iopub.status.busy": "2023-03-11T14:29:03.075474Z",
     "iopub.status.idle": "2023-03-11T14:29:03.772002Z",
     "shell.execute_reply": "2023-03-11T14:29:03.770210Z"
    },
    "papermill": {
     "duration": 0.716174,
     "end_time": "2023-03-11T14:29:03.774534",
     "exception": false,
     "start_time": "2023-03-11T14:29:03.058360",
     "status": "completed"
    },
    "tags": []
   },
   "outputs": [
    {
     "data": {
      "text/html": [
       "0"
      ],
      "text/latex": [
       "0"
      ],
      "text/markdown": [
       "0"
      ],
      "text/plain": [
       "[1] 0"
      ]
     },
     "metadata": {},
     "output_type": "display_data"
    },
    {
     "data": {
      "text/html": [
       "3"
      ],
      "text/latex": [
       "3"
      ],
      "text/markdown": [
       "3"
      ],
      "text/plain": [
       "[1] 3"
      ]
     },
     "metadata": {},
     "output_type": "display_data"
    },
    {
     "data": {
      "text/html": [
       "0"
      ],
      "text/latex": [
       "0"
      ],
      "text/markdown": [
       "0"
      ],
      "text/plain": [
       "[1] 0"
      ]
     },
     "metadata": {},
     "output_type": "display_data"
    },
    {
     "data": {
      "text/html": [
       "0"
      ],
      "text/latex": [
       "0"
      ],
      "text/markdown": [
       "0"
      ],
      "text/plain": [
       "[1] 0"
      ]
     },
     "metadata": {},
     "output_type": "display_data"
    },
    {
     "data": {
      "text/html": [
       "0"
      ],
      "text/latex": [
       "0"
      ],
      "text/markdown": [
       "0"
      ],
      "text/plain": [
       "[1] 0"
      ]
     },
     "metadata": {},
     "output_type": "display_data"
    }
   ],
   "source": [
    "sum(duplicated(daily_activity))\n",
    "sum(duplicated(daily_sleep))\n",
    "sum(duplicated(hourly_calories))\n",
    "sum(duplicated(hourly_intensities))\n",
    "sum(duplicated(hourly_steps))"
   ]
  },
  {
   "cell_type": "code",
   "execution_count": 9,
   "id": "3c2d387e",
   "metadata": {
    "execution": {
     "iopub.execute_input": "2023-03-11T14:29:03.810073Z",
     "iopub.status.busy": "2023-03-11T14:29:03.808488Z",
     "iopub.status.idle": "2023-03-11T14:29:03.859565Z",
     "shell.execute_reply": "2023-03-11T14:29:03.857806Z"
    },
    "papermill": {
     "duration": 0.072529,
     "end_time": "2023-03-11T14:29:03.863030",
     "exception": false,
     "start_time": "2023-03-11T14:29:03.790501",
     "status": "completed"
    },
    "tags": []
   },
   "outputs": [],
   "source": [
    "daily_activity <- daily_activity %>%\n",
    "  distinct() %>%\n",
    "  drop_na()\n",
    "\n",
    "daily_sleep <- daily_sleep %>%\n",
    "  distinct() %>%\n",
    "  drop_na()\n",
    "\n",
    "hourly_calories <- hourly_calories %>%\n",
    "  distinct() %>%\n",
    "  drop_na()\n",
    "\n",
    "hourly_intensities <- hourly_intensities %>%\n",
    "  distinct() %>%\n",
    "  drop_na()\n",
    "\n",
    "hourly_steps <- hourly_steps %>%\n",
    "  distinct() %>%\n",
    "  drop_na()"
   ]
  },
  {
   "cell_type": "markdown",
   "id": "657d062b",
   "metadata": {
    "papermill": {
     "duration": 0.021653,
     "end_time": "2023-03-11T14:29:03.902473",
     "exception": false,
     "start_time": "2023-03-11T14:29:03.880820",
     "status": "completed"
    },
    "tags": []
   },
   "source": [
    "### Merging the Datasets\n",
    "We cleaned the data and it's time to merge now.\n",
    "\n",
    "Let's merge all hourly data frames(hourly_steps, hourly_calories, hourly_intensities) using 'id' and 'activity_hour' columns found in all three tables. The hourly_activity table will be the main dataset to direct the hourly analysis."
   ]
  },
  {
   "cell_type": "code",
   "execution_count": 10,
   "id": "8fd654ec",
   "metadata": {
    "execution": {
     "iopub.execute_input": "2023-03-11T14:29:03.944141Z",
     "iopub.status.busy": "2023-03-11T14:29:03.942570Z",
     "iopub.status.idle": "2023-03-11T14:29:04.635485Z",
     "shell.execute_reply": "2023-03-11T14:29:04.633525Z"
    },
    "papermill": {
     "duration": 0.718274,
     "end_time": "2023-03-11T14:29:04.638938",
     "exception": false,
     "start_time": "2023-03-11T14:29:03.920664",
     "status": "completed"
    },
    "tags": []
   },
   "outputs": [],
   "source": [
    "hourly_activity <- merge(hourly_calories,hourly_steps,by=c(\"id\",\"activity_hour\"))\n",
    "hourly_activity <- merge(hourly_activity,hourly_intensities,by=c(\"id\",\"activity_hour\"))\n",
    "# Before we merge daily_activity and daily_sleep we need to change the name of \n",
    "# sleep_day column to activity_date so, they match in both data.\n",
    "daily_sleep <- rename(daily_sleep, activity_date = sleep_day)\n",
    "daily_merged <- merge(daily_activity,daily_sleep,by=c(\"id\",\"activity_date\"))"
   ]
  },
  {
   "cell_type": "code",
   "execution_count": 11,
   "id": "29528712",
   "metadata": {
    "execution": {
     "iopub.execute_input": "2023-03-11T14:29:04.675287Z",
     "iopub.status.busy": "2023-03-11T14:29:04.673675Z",
     "iopub.status.idle": "2023-03-11T14:29:04.790766Z",
     "shell.execute_reply": "2023-03-11T14:29:04.788117Z"
    },
    "papermill": {
     "duration": 0.138701,
     "end_time": "2023-03-11T14:29:04.794240",
     "exception": false,
     "start_time": "2023-03-11T14:29:04.655539",
     "status": "completed"
    },
    "tags": []
   },
   "outputs": [
    {
     "name": "stdout",
     "output_type": "stream",
     "text": [
      "Rows: 22,099\n",
      "Columns: 6\n",
      "$ id                \u001b[3m\u001b[90m<dbl>\u001b[39m\u001b[23m 1503960366, 1503960366, 1503960366, 1503960366, 1503…\n",
      "$ activity_hour     \u001b[3m\u001b[90m<dttm>\u001b[39m\u001b[23m 2016-04-12 00:00:00, 2016-04-12 01:00:00, 2016-04-1…\n",
      "$ calories          \u001b[3m\u001b[90m<dbl>\u001b[39m\u001b[23m 81, 61, 59, 47, 48, 48, 48, 47, 68, 141, 99, 76, 73,…\n",
      "$ step_total        \u001b[3m\u001b[90m<dbl>\u001b[39m\u001b[23m 373, 160, 151, 0, 0, 0, 0, 0, 250, 1864, 676, 360, 2…\n",
      "$ total_intensity   \u001b[3m\u001b[90m<dbl>\u001b[39m\u001b[23m 20, 8, 7, 0, 0, 0, 0, 0, 13, 30, 29, 12, 11, 6, 36, …\n",
      "$ average_intensity \u001b[3m\u001b[90m<dbl>\u001b[39m\u001b[23m 0.333333, 0.133333, 0.116667, 0.000000, 0.000000, 0.…\n",
      "Rows: 410\n",
      "Columns: 18\n",
      "$ id                         \u001b[3m\u001b[90m<dbl>\u001b[39m\u001b[23m 1503960366, 1503960366, 1503960366, 1503960…\n",
      "$ activity_date              \u001b[3m\u001b[90m<date>\u001b[39m\u001b[23m 2016-04-12, 2016-04-13, 2016-04-15, 2016-0…\n",
      "$ total_steps                \u001b[3m\u001b[90m<dbl>\u001b[39m\u001b[23m 13162, 10735, 9762, 12669, 9705, 15506, 105…\n",
      "$ total_distance             \u001b[3m\u001b[90m<dbl>\u001b[39m\u001b[23m 8.50, 6.97, 6.28, 8.16, 6.48, 9.88, 6.68, 6…\n",
      "$ tracker_distance           \u001b[3m\u001b[90m<dbl>\u001b[39m\u001b[23m 8.50, 6.97, 6.28, 8.16, 6.48, 9.88, 6.68, 6…\n",
      "$ logged_activities_distance \u001b[3m\u001b[90m<dbl>\u001b[39m\u001b[23m 0, 0, 0, 0, 0, 0, 0, 0, 0, 0, 0, 0, 0, 0, 0…\n",
      "$ very_active_distance       \u001b[3m\u001b[90m<dbl>\u001b[39m\u001b[23m 1.88, 1.57, 2.14, 2.71, 3.19, 3.53, 1.96, 1…\n",
      "$ moderately_active_distance \u001b[3m\u001b[90m<dbl>\u001b[39m\u001b[23m 0.55, 0.69, 1.26, 0.41, 0.78, 1.32, 0.48, 0…\n",
      "$ light_active_distance      \u001b[3m\u001b[90m<dbl>\u001b[39m\u001b[23m 6.06, 4.71, 2.83, 5.04, 2.51, 5.03, 4.24, 4…\n",
      "$ sedentary_active_distance  \u001b[3m\u001b[90m<dbl>\u001b[39m\u001b[23m 0, 0, 0, 0, 0, 0, 0, 0, 0, 0, 0, 0, 0, 0, 0…\n",
      "$ very_active_minutes        \u001b[3m\u001b[90m<dbl>\u001b[39m\u001b[23m 25, 21, 29, 36, 38, 50, 28, 19, 41, 39, 73,…\n",
      "$ fairly_active_minutes      \u001b[3m\u001b[90m<dbl>\u001b[39m\u001b[23m 13, 19, 34, 10, 20, 31, 12, 8, 21, 5, 14, 2…\n",
      "$ lightly_active_minutes     \u001b[3m\u001b[90m<dbl>\u001b[39m\u001b[23m 328, 217, 209, 221, 164, 264, 205, 211, 262…\n",
      "$ sedentary_minutes          \u001b[3m\u001b[90m<dbl>\u001b[39m\u001b[23m 728, 776, 726, 773, 539, 775, 818, 838, 732…\n",
      "$ calories                   \u001b[3m\u001b[90m<dbl>\u001b[39m\u001b[23m 1985, 1797, 1745, 1863, 1728, 2035, 1786, 1…\n",
      "$ total_sleep_records        \u001b[3m\u001b[90m<dbl>\u001b[39m\u001b[23m 1, 2, 1, 2, 1, 1, 1, 1, 1, 1, 1, 1, 1, 1, 1…\n",
      "$ total_minutes_asleep       \u001b[3m\u001b[90m<dbl>\u001b[39m\u001b[23m 327, 384, 412, 340, 700, 304, 360, 325, 361…\n",
      "$ total_time_in_bed          \u001b[3m\u001b[90m<dbl>\u001b[39m\u001b[23m 346, 407, 442, 367, 712, 320, 377, 364, 384…\n"
     ]
    }
   ],
   "source": [
    "glimpse(hourly_activity)\n",
    "glimpse(daily_merged)"
   ]
  },
  {
   "cell_type": "markdown",
   "id": "10225fe5",
   "metadata": {
    "papermill": {
     "duration": 0.01636,
     "end_time": "2023-03-11T14:29:04.827163",
     "exception": false,
     "start_time": "2023-03-11T14:29:04.810803",
     "status": "completed"
    },
    "tags": []
   },
   "source": [
    "# Analyze and Share\n",
    "We have the cleaned and organized data that ready to analyze. Let's begin!"
   ]
  },
  {
   "cell_type": "code",
   "execution_count": 12,
   "id": "671ce27a",
   "metadata": {
    "execution": {
     "iopub.execute_input": "2023-03-11T14:29:04.865029Z",
     "iopub.status.busy": "2023-03-11T14:29:04.862275Z",
     "iopub.status.idle": "2023-03-11T14:29:04.915223Z",
     "shell.execute_reply": "2023-03-11T14:29:04.912677Z"
    },
    "papermill": {
     "duration": 0.076405,
     "end_time": "2023-03-11T14:29:04.920050",
     "exception": false,
     "start_time": "2023-03-11T14:29:04.843645",
     "status": "completed"
    },
    "tags": []
   },
   "outputs": [
    {
     "data": {
      "text/plain": [
       "  total_steps    very_active_minutes lightly_active_minutes sedentary_minutes\n",
       " Min.   :    0   Min.   :  0.00      Min.   :  0.0          Min.   :   0.0   \n",
       " 1st Qu.: 3790   1st Qu.:  0.00      1st Qu.:127.0          1st Qu.: 729.8   \n",
       " Median : 7406   Median :  4.00      Median :199.0          Median :1057.5   \n",
       " Mean   : 7638   Mean   : 21.16      Mean   :192.8          Mean   : 991.2   \n",
       " 3rd Qu.:10727   3rd Qu.: 32.00      3rd Qu.:264.0          3rd Qu.:1229.5   \n",
       " Max.   :36019   Max.   :210.00      Max.   :518.0          Max.   :1440.0   \n",
       "    calories    total_distance  \n",
       " Min.   :   0   Min.   : 0.000  \n",
       " 1st Qu.:1828   1st Qu.: 2.620  \n",
       " Median :2134   Median : 5.245  \n",
       " Mean   :2304   Mean   : 5.490  \n",
       " 3rd Qu.:2793   3rd Qu.: 7.713  \n",
       " Max.   :4900   Max.   :28.030  "
      ]
     },
     "metadata": {},
     "output_type": "display_data"
    },
    {
     "data": {
      "text/plain": [
       " total_minutes_asleep total_time_in_bed\n",
       " Min.   : 58.0        Min.   : 61.0    \n",
       " 1st Qu.:361.0        1st Qu.:403.8    \n",
       " Median :432.5        Median :463.0    \n",
       " Mean   :419.2        Mean   :458.5    \n",
       " 3rd Qu.:490.0        3rd Qu.:526.0    \n",
       " Max.   :796.0        Max.   :961.0    "
      ]
     },
     "metadata": {},
     "output_type": "display_data"
    }
   ],
   "source": [
    "daily_activity %>% \n",
    "  select(total_steps, very_active_minutes, lightly_active_minutes, sedentary_minutes, \n",
    "         calories, total_distance) %>%\n",
    "  summary()\n",
    "\n",
    "daily_sleep %>%\n",
    "  select(total_minutes_asleep, total_time_in_bed) %>%\n",
    "  summary()"
   ]
  },
  {
   "cell_type": "markdown",
   "id": "02e6c278",
   "metadata": {
    "papermill": {
     "duration": 0.016531,
     "end_time": "2023-03-11T14:29:04.958290",
     "exception": false,
     "start_time": "2023-03-11T14:29:04.941759",
     "status": "completed"
    },
    "tags": []
   },
   "source": [
    "#### Key Findings\n",
    "* Classifying activity level by the steps taken per day depends on the source of the recommendation and the context of the individual's lifestyle but here are some commonly used guidelines based on research: \n",
    "    <br>&emsp; Sedentary: Less than 5,000 steps daily\n",
    "    <br>&emsp; Low active: About 5,000 to 7,499 steps daily\n",
    "    <br>&emsp; Somewhat active: About 7,500 to 9,999 steps daily\n",
    "    <br>&emsp; Active: More than 10,000 steps daily\n",
    "    <br>&emsp; Highly active: More than 12,500 steps daily<br>Users take 7638 steps per day on average. So, we can consider them somewhat active. However, we should courage them to take at least 10000 steps daily for an active and healthier lifestyle.\n",
    " \n",
    "* They also burn 2304 calories on average per day, which could be considered normal.\n",
    "\n",
    "* On average, they are very active for 21 minutes, lightly active for 192 minutes, and sedentary for 16,5 hours per day. \n",
    "\n",
    "* They travel 5.49 kilometers per day on average.\n",
    "\n",
    "* They sleep 7 hours per day on average. For adults, 7-9 hours of sleep per day is considered ideal and healthy. So, they fit on that but they are on the boundary.\n"
   ]
  },
  {
   "cell_type": "markdown",
   "id": "e21c2dc6",
   "metadata": {
    "papermill": {
     "duration": 0.017224,
     "end_time": "2023-03-11T14:29:04.992604",
     "exception": false,
     "start_time": "2023-03-11T14:29:04.975380",
     "status": "completed"
    },
    "tags": []
   },
   "source": [
    "The more active you are and the more steps you take, the more calories you will burn. This is an obvious fact, but we can still look into the data to find any interesting insight or just prove this fact."
   ]
  },
  {
   "cell_type": "code",
   "execution_count": 13,
   "id": "6a002def",
   "metadata": {
    "execution": {
     "iopub.execute_input": "2023-03-11T14:29:05.029136Z",
     "iopub.status.busy": "2023-03-11T14:29:05.027528Z",
     "iopub.status.idle": "2023-03-11T14:29:07.117277Z",
     "shell.execute_reply": "2023-03-11T14:29:07.114530Z"
    },
    "papermill": {
     "duration": 2.112656,
     "end_time": "2023-03-11T14:29:07.121726",
     "exception": false,
     "start_time": "2023-03-11T14:29:05.009070",
     "status": "completed"
    },
    "tags": []
   },
   "outputs": [
    {
     "name": "stderr",
     "output_type": "stream",
     "text": [
      "\u001b[1m\u001b[22m`geom_smooth()` using formula = 'y ~ x'\n"
     ]
    },
    {
     "data": {
      "image/png": "[encoded data removed]"
     },
     "metadata": {
      "image/png": {
       "height": 420,
       "width": 420
      }
     },
     "output_type": "display_data"
    }
   ],
   "source": [
    "ggplot(data=daily_activity, aes(x=total_steps, y = calories))+ \n",
    "  geom_point()+ \n",
    "  stat_smooth(method=lm)+\n",
    "  labs(title=\"Total Steps vs. Calories Burned\", x=\"Total Steps\", y=\"Calories\")"
   ]
  },
  {
   "cell_type": "code",
   "execution_count": 14,
   "id": "22cf6f81",
   "metadata": {
    "execution": {
     "iopub.execute_input": "2023-03-11T14:29:07.167419Z",
     "iopub.status.busy": "2023-03-11T14:29:07.165673Z",
     "iopub.status.idle": "2023-03-11T14:29:07.204419Z",
     "shell.execute_reply": "2023-03-11T14:29:07.201984Z"
    },
    "papermill": {
     "duration": 0.064446,
     "end_time": "2023-03-11T14:29:07.208044",
     "exception": false,
     "start_time": "2023-03-11T14:29:07.143598",
     "status": "completed"
    },
    "tags": []
   },
   "outputs": [
    {
     "data": {
      "text/html": [
       "<table class=\"dataframe\">\n",
       "<caption>A tibble: 1 × 1</caption>\n",
       "<thead>\n",
       "\t<tr><th scope=col>cor(total_steps, calories)</th></tr>\n",
       "\t<tr><th scope=col>&lt;dbl&gt;</th></tr>\n",
       "</thead>\n",
       "<tbody>\n",
       "\t<tr><td>0.5915681</td></tr>\n",
       "</tbody>\n",
       "</table>\n"
      ],
      "text/latex": [
       "A tibble: 1 × 1\n",
       "\\begin{tabular}{l}\n",
       " cor(total\\_steps, calories)\\\\\n",
       " <dbl>\\\\\n",
       "\\hline\n",
       "\t 0.5915681\\\\\n",
       "\\end{tabular}\n"
      ],
      "text/markdown": [
       "\n",
       "A tibble: 1 × 1\n",
       "\n",
       "| cor(total_steps, calories) &lt;dbl&gt; |\n",
       "|---|\n",
       "| 0.5915681 |\n",
       "\n"
      ],
      "text/plain": [
       "  cor(total_steps, calories)\n",
       "1 0.5915681                 "
      ]
     },
     "metadata": {},
     "output_type": "display_data"
    }
   ],
   "source": [
    "daily_activity %>%\n",
    "  summarize(cor(total_steps,calories))"
   ]
  },
  {
   "cell_type": "markdown",
   "id": "2d03899a",
   "metadata": {
    "papermill": {
     "duration": 0.019522,
     "end_time": "2023-03-11T14:29:07.247612",
     "exception": false,
     "start_time": "2023-03-11T14:29:07.228090",
     "status": "completed"
    },
    "tags": []
   },
   "source": [
    "The correlation between the daily steps taken and daily burned calories can be seen easily from the chart above.\n",
    "\n",
    "The correlation coefficient is a statistical measure of the strength of a linear relationship between two variables. Its values can range from -1 to 1. A correlation coefficient of -1 describes a perfect negative, or inverse, correlation, with values in one series rising as those in the other decline, and vice versa. A coefficient of 1 shows a perfect positive correlation or a direct relationship. A correlation coefficient of 0 means there is no linear relationship.\n",
    "\n",
    "In this case, the correlation coefficient is found 0.59 which also shows that there exists a positive correlation."
   ]
  },
  {
   "cell_type": "markdown",
   "id": "d287bba3",
   "metadata": {
    "papermill": {
     "duration": 0.020234,
     "end_time": "2023-03-11T14:29:07.286969",
     "exception": false,
     "start_time": "2023-03-11T14:29:07.266735",
     "status": "completed"
    },
    "tags": []
   },
   "source": [
    "Now, let's create a new data frame by grouping the activities of each user."
   ]
  },
  {
   "cell_type": "code",
   "execution_count": 15,
   "id": "b4ecdf7f",
   "metadata": {
    "execution": {
     "iopub.execute_input": "2023-03-11T14:29:07.372504Z",
     "iopub.status.busy": "2023-03-11T14:29:07.370890Z",
     "iopub.status.idle": "2023-03-11T14:29:07.435760Z",
     "shell.execute_reply": "2023-03-11T14:29:07.433717Z"
    },
    "papermill": {
     "duration": 0.132674,
     "end_time": "2023-03-11T14:29:07.439171",
     "exception": false,
     "start_time": "2023-03-11T14:29:07.306497",
     "status": "completed"
    },
    "tags": []
   },
   "outputs": [
    {
     "name": "stdout",
     "output_type": "stream",
     "text": [
      "Rows: 33\n",
      "Columns: 6\n",
      "$ id                    \u001b[3m\u001b[90m<dbl>\u001b[39m\u001b[23m 1503960366, 1624580081, 1644430081, 1844505072, …\n",
      "$ avg_total_steps       \u001b[3m\u001b[90m<dbl>\u001b[39m\u001b[23m 12116.742, 5743.903, 7282.967, 2580.065, 916.129…\n",
      "$ avg_sedentary_minutes \u001b[3m\u001b[90m<dbl>\u001b[39m\u001b[23m 848.1613, 1257.7419, 1161.8667, 1206.6129, 1317.…\n",
      "$ avg_calories          \u001b[3m\u001b[90m<dbl>\u001b[39m\u001b[23m 1816.419, 1483.355, 2811.300, 1573.484, 2172.806…\n",
      "$ corr_steps_calories   \u001b[3m\u001b[90m<dbl>\u001b[39m\u001b[23m 0.8919450, 0.9305894, 0.9137225, 0.9166721, 0.82…\n",
      "$ activity              \u001b[3m\u001b[90m<chr>\u001b[39m\u001b[23m \"active\", \"low active\", \"low active\", \"sedentary…\n"
     ]
    },
    {
     "data": {
      "text/html": [
       "<table class=\"dataframe\">\n",
       "<caption>A tibble: 6 × 6</caption>\n",
       "<thead>\n",
       "\t<tr><th scope=col>id</th><th scope=col>avg_total_steps</th><th scope=col>avg_sedentary_minutes</th><th scope=col>avg_calories</th><th scope=col>corr_steps_calories</th><th scope=col>activity</th></tr>\n",
       "\t<tr><th scope=col>&lt;dbl&gt;</th><th scope=col>&lt;dbl&gt;</th><th scope=col>&lt;dbl&gt;</th><th scope=col>&lt;dbl&gt;</th><th scope=col>&lt;dbl&gt;</th><th scope=col>&lt;chr&gt;</th></tr>\n",
       "</thead>\n",
       "<tbody>\n",
       "\t<tr><td>1503960366</td><td>12116.742</td><td> 848.1613</td><td>1816.419</td><td>0.8919450</td><td>active    </td></tr>\n",
       "\t<tr><td>1624580081</td><td> 5743.903</td><td>1257.7419</td><td>1483.355</td><td>0.9305894</td><td>low active</td></tr>\n",
       "\t<tr><td>1644430081</td><td> 7282.967</td><td>1161.8667</td><td>2811.300</td><td>0.9137225</td><td>low active</td></tr>\n",
       "\t<tr><td>1844505072</td><td> 2580.065</td><td>1206.6129</td><td>1573.484</td><td>0.9166721</td><td>sedentary </td></tr>\n",
       "\t<tr><td>1927972279</td><td>  916.129</td><td>1317.4194</td><td>2172.806</td><td>0.8218038</td><td>sedentary </td></tr>\n",
       "\t<tr><td>2022484408</td><td>11370.645</td><td>1112.5806</td><td>2509.968</td><td>0.7600246</td><td>active    </td></tr>\n",
       "</tbody>\n",
       "</table>\n"
      ],
      "text/latex": [
       "A tibble: 6 × 6\n",
       "\\begin{tabular}{llllll}\n",
       " id & avg\\_total\\_steps & avg\\_sedentary\\_minutes & avg\\_calories & corr\\_steps\\_calories & activity\\\\\n",
       " <dbl> & <dbl> & <dbl> & <dbl> & <dbl> & <chr>\\\\\n",
       "\\hline\n",
       "\t 1503960366 & 12116.742 &  848.1613 & 1816.419 & 0.8919450 & active    \\\\\n",
       "\t 1624580081 &  5743.903 & 1257.7419 & 1483.355 & 0.9305894 & low active\\\\\n",
       "\t 1644430081 &  7282.967 & 1161.8667 & 2811.300 & 0.9137225 & low active\\\\\n",
       "\t 1844505072 &  2580.065 & 1206.6129 & 1573.484 & 0.9166721 & sedentary \\\\\n",
       "\t 1927972279 &   916.129 & 1317.4194 & 2172.806 & 0.8218038 & sedentary \\\\\n",
       "\t 2022484408 & 11370.645 & 1112.5806 & 2509.968 & 0.7600246 & active    \\\\\n",
       "\\end{tabular}\n"
      ],
      "text/markdown": [
       "\n",
       "A tibble: 6 × 6\n",
       "\n",
       "| id &lt;dbl&gt; | avg_total_steps &lt;dbl&gt; | avg_sedentary_minutes &lt;dbl&gt; | avg_calories &lt;dbl&gt; | corr_steps_calories &lt;dbl&gt; | activity &lt;chr&gt; |\n",
       "|---|---|---|---|---|---|\n",
       "| 1503960366 | 12116.742 |  848.1613 | 1816.419 | 0.8919450 | active     |\n",
       "| 1624580081 |  5743.903 | 1257.7419 | 1483.355 | 0.9305894 | low active |\n",
       "| 1644430081 |  7282.967 | 1161.8667 | 2811.300 | 0.9137225 | low active |\n",
       "| 1844505072 |  2580.065 | 1206.6129 | 1573.484 | 0.9166721 | sedentary  |\n",
       "| 1927972279 |   916.129 | 1317.4194 | 2172.806 | 0.8218038 | sedentary  |\n",
       "| 2022484408 | 11370.645 | 1112.5806 | 2509.968 | 0.7600246 | active     |\n",
       "\n"
      ],
      "text/plain": [
       "  id         avg_total_steps avg_sedentary_minutes avg_calories\n",
       "1 1503960366 12116.742        848.1613             1816.419    \n",
       "2 1624580081  5743.903       1257.7419             1483.355    \n",
       "3 1644430081  7282.967       1161.8667             2811.300    \n",
       "4 1844505072  2580.065       1206.6129             1573.484    \n",
       "5 1927972279   916.129       1317.4194             2172.806    \n",
       "6 2022484408 11370.645       1112.5806             2509.968    \n",
       "  corr_steps_calories activity  \n",
       "1 0.8919450           active    \n",
       "2 0.9305894           low active\n",
       "3 0.9137225           low active\n",
       "4 0.9166721           sedentary \n",
       "5 0.8218038           sedentary \n",
       "6 0.7600246           active    "
      ]
     },
     "metadata": {},
     "output_type": "display_data"
    }
   ],
   "source": [
    "users_daily_activity <- daily_activity %>%\n",
    "  group_by(id) %>%\n",
    "  summarize(avg_total_steps = mean(total_steps), \n",
    "            avg_sedentary_minutes = mean(sedentary_minutes), \n",
    "            avg_calories = mean(calories), \n",
    "            corr_steps_calories = cor(total_steps,calories))\n",
    "\n",
    "#Classify them according to the activity type\n",
    "users_daily_activity <- users_daily_activity %>%\n",
    "  mutate(activity = case_when(\n",
    "    avg_total_steps < 5000 ~ \"sedentary\",\n",
    "    avg_total_steps >= 5000 & avg_total_steps < 7500 ~ \"low active\", \n",
    "    avg_total_steps >= 7500 & avg_total_steps < 10000 ~ \"somewhat active\", \n",
    "    avg_total_steps >= 10000 & avg_total_steps < 12500 ~ \"active\",\n",
    "    avg_total_steps >= 12500 ~ \"highly active\"\n",
    "  ))\n",
    "\n",
    "glimpse(users_daily_activity)\n",
    "head(users_daily_activity)"
   ]
  },
  {
   "attachments": {
    "6b5bddf4-bcbc-46cd-8769-351eb8cd5a52.png": {
     "image/png": "[encoded data removed]"
    }
   },
   "cell_type": "markdown",
   "id": "069f9ac7",
   "metadata": {
    "papermill": {
     "duration": 0.019272,
     "end_time": "2023-03-11T14:29:07.478802",
     "exception": false,
     "start_time": "2023-03-11T14:29:07.459530",
     "status": "completed"
    },
    "tags": []
   },
   "source": [
    "![image.png](attachment:6b5bddf4-bcbc-46cd-8769-351eb8cd5a52.png)\n",
    "\n",
    "As you can see from the pie chart, only %15 of users are active and %6 of users are highly active. %24 of the users are considered sedentary which is a quite dangerous amount."
   ]
  },
  {
   "cell_type": "code",
   "execution_count": 16,
   "id": "3a016f9f",
   "metadata": {
    "execution": {
     "iopub.execute_input": "2023-03-11T14:29:07.521059Z",
     "iopub.status.busy": "2023-03-11T14:29:07.519304Z",
     "iopub.status.idle": "2023-03-11T14:29:07.536935Z",
     "shell.execute_reply": "2023-03-11T14:29:07.535161Z"
    },
    "papermill": {
     "duration": 0.041186,
     "end_time": "2023-03-11T14:29:07.539376",
     "exception": false,
     "start_time": "2023-03-11T14:29:07.498190",
     "status": "completed"
    },
    "tags": []
   },
   "outputs": [
    {
     "data": {
      "text/html": [
       "9"
      ],
      "text/latex": [
       "9"
      ],
      "text/markdown": [
       "9"
      ],
      "text/plain": [
       "[1] 9"
      ]
     },
     "metadata": {},
     "output_type": "display_data"
    }
   ],
   "source": [
    "nrow(users_daily_activity[users_daily_activity$avg_sedentary_minutes >= 1200, ])"
   ]
  },
  {
   "cell_type": "markdown",
   "id": "cd7fe474",
   "metadata": {
    "papermill": {
     "duration": 0.01948,
     "end_time": "2023-03-11T14:29:07.578537",
     "exception": false,
     "start_time": "2023-03-11T14:29:07.559057",
     "status": "completed"
    },
    "tags": []
   },
   "source": [
    "9 users, which mean %27 of all users, spend more than 20 hours of the day by sitting or lying down.<br>This is a quite dangerous statistic when we consider that sitting for long periods can lead to back pain, neck pain, and other musculoskeletal problems, as it can cause muscle imbalances and postural problems and also, it has been associated with an increased risk of colon, breast, and endometrial cancer, heart disease, and stroke. "
   ]
  },
  {
   "attachments": {
    "2d8eae07-2094-4203-af38-f1d76a5c2a5b.png": {
     "image/png": "[encoded data removed]"
    }
   },
   "cell_type": "markdown",
   "id": "6a70a04a",
   "metadata": {
    "papermill": {
     "duration": 0.020844,
     "end_time": "2023-03-11T14:29:07.618965",
     "exception": false,
     "start_time": "2023-03-11T14:29:07.598121",
     "status": "completed"
    },
    "tags": []
   },
   "source": [
    "![image.png](attachment:2d8eae07-2094-4203-af38-f1d76a5c2a5b.png)\n",
    "\n",
    "We see that Saturday is the most active day and Sunday is the least active day. Therefore, we can conclude that most of the users take Sunday to rest and Saturday for physical activities."
   ]
  },
  {
   "attachments": {
    "a0cb6e78-ed5f-46cb-93b8-dc8214a65c6d.png": {
     "image/png": "[encoded data removed]"
    }
   },
   "cell_type": "markdown",
   "id": "329099e4",
   "metadata": {
    "papermill": {
     "duration": 0.0194,
     "end_time": "2023-03-11T14:29:07.658051",
     "exception": false,
     "start_time": "2023-03-11T14:29:07.638651",
     "status": "completed"
    },
    "tags": []
   },
   "source": [
    "![image.png](attachment:a0cb6e78-ed5f-46cb-93b8-dc8214a65c6d.png)\n",
    "\n",
    "We can see that they sleep most on Sunday. That also supports our last observation that most of the users take Sundays to rest.<br>\n",
    "\n",
    "That's also interesting to observe that sleep time is higher on Wednesdays when we compare it with other weekdays."
   ]
  },
  {
   "attachments": {
    "efcdc389-ee48-44a7-ac1e-00be53ee7e71.png": {
     "image/png": "[encoded data removed]"
    }
   },
   "cell_type": "markdown",
   "id": "18cb4b80",
   "metadata": {
    "papermill": {
     "duration": 0.020015,
     "end_time": "2023-03-11T14:29:07.697248",
     "exception": false,
     "start_time": "2023-03-11T14:29:07.677233",
     "status": "completed"
    },
    "tags": []
   },
   "source": [
    "![image.png](attachment:efcdc389-ee48-44a7-ac1e-00be53ee7e71.png)\n",
    "\n",
    "17:00 to 20:00 is the most active time range throughout the day, maybe because it is the end of the work schedule and users may prefer going to the gym or doing other activities after work.\n",
    "\n",
    "12:00 to 15:00 is the second most active time range throughout the day. We can attribute this to having a lunch break."
   ]
  },
  {
   "attachments": {
    "23e0d4f2-c91f-4a09-bba0-cfb6757ff57a.png": {
     "image/png": "[encoded data removed]"
    }
   },
   "cell_type": "markdown",
   "id": "b6615f96",
   "metadata": {
    "papermill": {
     "duration": 0.019456,
     "end_time": "2023-03-11T14:29:07.736277",
     "exception": false,
     "start_time": "2023-03-11T14:29:07.716821",
     "status": "completed"
    },
    "tags": []
   },
   "source": [
    "![image.png](attachment:23e0d4f2-c91f-4a09-bba0-cfb6757ff57a.png)\n",
    "\n",
    "The amount of calories burned throughout the day matches the number of steps taken throughout the day. We mentioned that they correlate with each other.<br>\n",
    "We can also conclude that they burn 60-80 calories hourly while they are asleep."
   ]
  },
  {
   "cell_type": "markdown",
   "id": "2e57cb9a",
   "metadata": {
    "papermill": {
     "duration": 0.019141,
     "end_time": "2023-03-11T14:29:07.774643",
     "exception": false,
     "start_time": "2023-03-11T14:29:07.755502",
     "status": "completed"
    },
    "tags": []
   },
   "source": [
    "# Conclusion \n",
    "\n",
    "## Insights\n",
    "\n",
    "* **Users take 7638 steps per day on average.** We can consider them somewhat active. However, we should courage them to take at least 10000 steps daily for an active and healthier lifestyle.<br>Taking 10000 steps a day improves cardiovascular health by strengthening the heart muscle, lowering blood pressure, and improving circulation, reducing the risk of chronic diseases such as type 2 diabetes, heart disease, and certain types of cancer. Also, physical activity can improve mood and reduce symptoms of anxiety and depression, and walking outdoors can provide additional benefits such as exposure to natural light and fresh air.\n",
    "\n",
    "* **They burn 2304 calories per day on average.**<br>The normal amount of calories burned per day varies depending on a person's age, gender, weight, height, and level of physical activity. However, on average, an adult woman needs to burn about 2,000 calories per day, and an adult man needs to burn about 2,500 calories per day to maintain their weight. We have women-centric data so, we may consider our statistics as normal.If we collect the age, gender, weight, height, and level of physical activity data from all users, we can give advice and warn all individuals.\n",
    "\n",
    "* On average, they are **very active for 21 minutes**, **lightly active for 192 minutes**, and **sedentary for 16,5 hours** per day.<br>Very active minutes for 21 minutes is not long enough for a healthy lifestyle. We should courage users to do at least 30 minutes of high-tension exercise. Sedentary time is also quite long but when we consider that the users may work by sitting, there is nothing to do with this.\n",
    "\n",
    "* **They travel 5.49 kilometers per day on average.**\n",
    "\n",
    "* **They sleep 7 hours per day on average.** For adults, 7-9 hours of sleep per day is considered ideal and healthy. So, they fit on that but they are on the boundary. \n",
    "\n",
    "* The more steps you take, the more calories you will burn. This is an obvious fact, but we still analyzed the data and prove this fact with a strong correlation.\n",
    "\n",
    "* * %15 of users are active\n",
    "  * %6 of users are highly active\n",
    "  * %27 of the users are somewhat active\n",
    "  * %27 of the users are low active \n",
    "  * %25 of the users are sedentary.\n",
    "  \n",
    "  **%52 of the users are considered as low active or sedentary** which is a quite dangerous statistic. We definitely should courage them with a set of activities.\n",
    "\n",
    "\n",
    "* **%27 of all users spend more than 20 hours of the day by sitting or lying down.**<br>This is also a quite dangerous statistic when we consider that sitting for long periods can lead to back pain, neck pain, and other musculoskeletal problems, as it can cause muscle imbalances and postural problems and also, it has been associated with an increased risk of colon, breast, and endometrial cancer, heart disease, and stroke.\n",
    "\n",
    "* **Saturday is the most active day, and Sunday is the least active day.** Therefore, we can conclude that most of the users take Sunday to rest and Saturday for personal activities.\n",
    "\n",
    "* **They sleep most on Sunday.** That also supports our last conclusion that most of the users take Sundays to rest.<br>\n",
    "* It is interesting that sleep time is higher on Wednesdays when we compare it with other weekdays.\n",
    "\n",
    "* **17:00 to 20:00 is the most active time range throughout the day**, maybe because it is the end of the work schedule and users may prefer going to the gym or doing other activities after work.<br>12:00 to 15:00 is the second most active time range throughout the day. We can attribute this to having a lunch break.\n",
    "\n",
    "* The amount of calories burned throughout the day matches the number of steps taken throughout the day. We mentioned that they correlate with each other.<br>We can also conclude that **they burn 60-80 calories hourly while they are asleep**."
   ]
  },
  {
   "cell_type": "markdown",
   "id": "e2590c12",
   "metadata": {
    "papermill": {
     "duration": 0.019216,
     "end_time": "2023-03-11T14:29:07.813523",
     "exception": false,
     "start_time": "2023-03-11T14:29:07.794307",
     "status": "completed"
    },
    "tags": []
   },
   "source": [
    "## Recommendations\n",
    "\n",
    "#### A new calorie and sleep tracking system:\n",
    "\n",
    "&emsp;The users should be aware of the minimum sleep time they need and the minimum amount of calories they should burn according to their age, gender, weight, height, and other physical conditions. These kinds of personal information could be asked from users to inform them at that point.\n",
    "\n",
    "&emsp;Users put information about the meals they had, and then the calories they took will be calculated. Anytime, they will be aware of whether they take more calories than they burn or vice versa. \n",
    "\n",
    "&emsp;Daily eating habits and activity habits suggestions will be given to the users depending on whether they should lose weight, gain weight, or stay at a stable weight.\n",
    "\n",
    "&emsp;Furthermore, exercise programs and instructions can be added to the application to encourage users.\n",
    "\n",
    "#### To encourage users to a more active lifestyle:\n",
    "* The users could set daily steps goals. To keep users reaching these goals for the long term, a streak system could be added to the app. When the users do 7 days streak, the goal will be increased and this will keep going. In addition, an achievement system could be designed as well. The users get achievements, medals, or badges which will be shown on their profile, when they accomplish 7 days streak, 14 days streak, 1 month streak, etc.\n",
    "* A league system would be a huge leap for the application. Imagine you are in a league and you compete with your family, friends, colleagues, or classmates for more activity. Every league can have different goals and the users get scores for achieving daily goals and doing streaks. Weekly leaderboards, monthly leaderboards, and all-time leaderboards can be added to the leagues. Also, a prize can be decided for the winners on a weekly or monthly basis by all of the users in the league. <br>Further, this system is quite open to improvement, new features can be added in time. <br>Last but not least, this idea plays a big role in marketing as well. We can make sure that it will bring more users.\n",
    "* The users should see the comparison of themselves with the other users. <br>For example: \"You are in the group of most active %30 users.\", \"You took %45 more steps than your age group.\"\n",
    "\n",
    "#### A new notification system:<br>\n",
    "* The user who sleeps less than 7 hours, or the required time according to their physical conditions, gets notifications on a daily, weekly, or monthly basis.\n",
    "* The user who takes less than 7500 steps, or their goals, gets a notification at the end of the day.\n",
    "* The user who stays sedentary for a long time in the daytime should get notified and motivated for at least some minimal activity. "
   ]
  }
 ],
 "metadata": {
  "kernelspec": {
   "display_name": "R",
   "language": "R",
   "name": "ir"
  },
  "language_info": {
   "codemirror_mode": "r",
   "file_extension": ".r",
   "mimetype": "text/x-r-source",
   "name": "R",
   "pygments_lexer": "r",
   "version": "4.0.5"
  },
  "papermill": {
   "default_parameters": {},
   "duration": 12.783081,
   "end_time": "2023-03-11T14:29:07.955871",
   "environment_variables": {},
   "exception": null,
   "input_path": "__notebook__.ipynb",
   "output_path": "__notebook__.ipynb",
   "parameters": {},
   "start_time": "2023-03-11T14:28:55.172790",
   "version": "2.4.0"
  }
 },
 "nbformat": 4,
 "nbformat_minor": 5
}
